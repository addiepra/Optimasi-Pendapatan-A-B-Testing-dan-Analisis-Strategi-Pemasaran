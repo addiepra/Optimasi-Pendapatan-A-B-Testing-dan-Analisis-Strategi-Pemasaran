{
 "cells": [
  {
   "cell_type": "markdown",
   "metadata": {},
   "source": [
    "# Optimasi Pendapatan: A/B Testing dan Analisis Strategi Pemasaran\n",
    "\n",
    "\n",
    "## Pendahuluan\n",
    "Dalam lingkungan kerja yang dinamis di sebuah toko online besar, saya, sebagai seorang data analyst, bersama dengan tim pemasaran, telah berkolaborasi untuk mengidentifikasi potensi peningkatan pendapatan. Sebagai hasilnya, kami telah merumuskan serangkaian hipotesis yang dapat menjadi kunci untuk meningkatkan kinerja toko secara keseluruhan. Tugas utama saya dalam Project adalah melakukan pemilahan dan prioritisasi terhadap hipotesis-hipotesis tersebut. Proses ini melibatkan implementasi A/B testing yang akan membantu kami mengumpulkan data yang relevan dan signifikan. Selanjutnya, saya akan melakukan analisis mendalam terhadap hasil-hasil tersebut untuk menghasilkan wawasan yang dapat diimplementasikan guna mengoptimalkan strategi pemasaran dan meningkatkan pendapatan toko online ini. Dengan fokus pada metodologi sprint dan kolaborasi tim, Project diharapkan dapat memberikan kontribusi positif terhadap pertumbuhan dan kesuksesan toko online ini.\n",
    "\n",
    "## Tujuan\n",
    "Tujuan Project secara singkat adalah meningkatkan pendapatan toko online dengan melakukan pemilahan, prioritisasi, dan pengujian hipotesis melalui A/B testing. Melalui analisis hasil, kami berharap dapat mengidentifikasi strategi pemasaran yang efektif dan optimal untuk meningkatkan kinerja toko secara keseluruhan.\n",
    "\n",
    "## Tahapan\n",
    "Berikut tahapan-tahapan yang akan kita lakukan:\n",
    "\n",
    "1. Memprioritaskan Hipotesis\n",
    "File `hypotheses_us.csv` memuat sembilan hipotesis untuk meningkatkan pendapatan toko online dengan Reach, Impact, Confidence, dan Effort yang sudah ditentukan untuk masing-masing hipotesis.\n",
    "dengan tugas yang dilakukan adalah:\n",
    "- Menerapkan framework ICE untuk memprioritaskan hipotesis. Urutkan hipotesis tersebut dalam urutan prioritas menurun.\n",
    "- Menerapkan framework RICE untuk memprioritaskan hipotesis. Urutkan hipotesis tersebut dalam urutan prioritas menurun.\n",
    "- Menunjukkan perubahan prioritas hipotesis saat RICE diterapkan untuk menggantikan ICE. Berikan penjelasan terkait perubahan tersebut.\n",
    "\n",
    "2. Analisis A/B Testing\n",
    "Melakukan A/B testing dan mendapatkan hasil seperti yang dideskripsikan dalam file `orders_us.csv` dan `visitors_us.csv`. Berikut sub bab yang akan dilakukan:\n",
    "\n",
    "- Gambarkan pendapatan kumulatif berdasarkan kelompok. Buat kesimpulan dan asumsinya.\n",
    "- Gambarkan ukuran pesanan rata-rata kumulatif berdasarkan kelompok. Buat kesimpulan dan asumsinya.\n",
    "- Gambarkan perbedaan relatif untuk ukuran pesanan rata-rata kumulatif kelompok B yang dibandingkan dengan kelompok A. Buat kesimpulan dan asumsinya.\n",
    "- Gambarkan konversi kumulatif berdasarkan kelompok. Buat kesimpulan dan asumsinya.\n",
    "- Gambarkan perbedaan relatif untuk tingkat konversi kumulatif kelompok B yang dibandingkan dengan kelompok A. Buat kesimpulan dan asumsinya.\n",
    "- Hitung tingkat konversi setiap kelompok sebagai rasio pesanan terhadap jumlah kunjungan setiap hari. Buat grafik tingkat konversi harian dari kedua kelompok dan jelaskan perbedaannya. Buat kesimpulan dan asumsinya.\n",
    "- Buat diagram tebar (scatter chart) untuk jumlah pesanan per pengguna. Buat kesimpulan dan asumsinya.\n",
    "- Hitung persentil ke-95 dan ke-99 untuk jumlah pesanan per pengguna. Tentukan titik ketika suatu titik data berubah menjadi anomali.\n",
    "- Buat diagram tebar (scatter chart) untuk harga pesanan. Buat kesimpulan dan asumsinya.\n",
    "- Hitung persentil ke-95 dan ke-99 untuk harga pesanan. Tentukan titik ketika suatu titik data berubah menjadi anomali.\n",
    "- Temukan signifikansi statistik perbedaan konversi antar kelompok menggunakan data mentah. Buat kesimpulan dan asumsinya.\n",
    "- Temukan signifikansi statistik perbedaan ukuran pesanan rata-rata antar kelompok menggunakan data mentah. Buat kesimpulan dan asumsinya.\n",
    "- Temukan signifikansi statistik perbedaan konversi antar kelompok menggunakan data yang telah difilter. Buat kesimpulan dan asumsinya.\n",
    "- Temukan signifikansi statistik perbedaan ukuran pesanan rata-rata antar kelompok menggunakan data yang telah difilter. Buat kesimpulan dan asumsinya.\n",
    "- Buatlah keputusan berdasarkan hasil pengujian. Keputusan yang memungkinkan adalah: 1. Menghentikan pengujian, serta mempertimbangkan salah satu kelompok sebagai pemimpin. 2. Menghentikan pengujian, serta menyimpulkan bahwa tidak ada perbedaan antara kedua kelompok. 3. Melanjutkan pengujian.\n",
    " "
   ]
  },
  {
   "cell_type": "markdown",
   "metadata": {},
   "source": [
    "--------------"
   ]
  },
  {
   "cell_type": "markdown",
   "metadata": {},
   "source": [
    "## Inisialisasi\n",
    "\n",
    "- Import library yang akan digunakan"
   ]
  },
  {
   "cell_type": "code",
   "execution_count": 43,
   "metadata": {},
   "outputs": [],
   "source": [
    "# list library yang digunakan\n",
    "from scipy import stats as st\n",
    "from datetime import datetime, timedelta\n",
    "import pandas as pd\n",
    "import matplotlib.pyplot as plt\n",
    "import seaborn as sns\n",
    "import numpy as np\n",
    "import datetime as dt"
   ]
  },
  {
   "cell_type": "markdown",
   "metadata": {},
   "source": [
    "--------"
   ]
  },
  {
   "cell_type": "markdown",
   "metadata": {},
   "source": [
    "## Memuat Data\n",
    "\n",
    "- Memuat dataset yang diperlukan dengan variable yang akan ditentukan.\n"
   ]
  },
  {
   "cell_type": "code",
   "execution_count": 44,
   "metadata": {},
   "outputs": [],
   "source": [
    "# Memuat datasets\n",
    "hypothesis_df = pd.read_csv('/datasets/hypotheses_us.csv')\n",
    "orders_df = pd.read_csv('/datasets/orders_us.csv')\n",
    "visitors_df = pd.read_csv('/datasets/visitors_us.csv')"
   ]
  },
  {
   "cell_type": "markdown",
   "metadata": {},
   "source": [
    "----"
   ]
  },
  {
   "cell_type": "markdown",
   "metadata": {},
   "source": [
    "## Pra-pemrosesan Data\n",
    "\n",
    "- Di sini kita akan melakuka pra-pemrosesan data terlebih dahulu apabila ada yang tidak sesuai secara nilai atau tipe data yang ada di masing-masing datasets."
   ]
  },
  {
   "cell_type": "markdown",
   "metadata": {},
   "source": [
    "### Pra-pemrosesan hypothesis_df"
   ]
  },
  {
   "cell_type": "code",
   "execution_count": 45,
   "metadata": {},
   "outputs": [
    {
     "name": "stdout",
     "output_type": "stream",
     "text": [
      "<class 'pandas.core.frame.DataFrame'>\n",
      "RangeIndex: 9 entries, 0 to 8\n",
      "Data columns (total 1 columns):\n",
      " #   Column                                     Non-Null Count  Dtype \n",
      "---  ------                                     --------------  ----- \n",
      " 0   Hypothesis;Reach;Impact;Confidence;Effort  9 non-null      object\n",
      "dtypes: object(1)\n",
      "memory usage: 200.0+ bytes\n"
     ]
    }
   ],
   "source": [
    "# memulai dari hypothesis_df \n",
    "# memeriksa informasi hypothesis_Df\n",
    "hypothesis_df.info()"
   ]
  },
  {
   "cell_type": "code",
   "execution_count": 46,
   "metadata": {},
   "outputs": [
    {
     "data": {
      "text/html": [
       "<div>\n",
       "<style scoped>\n",
       "    .dataframe tbody tr th:only-of-type {\n",
       "        vertical-align: middle;\n",
       "    }\n",
       "\n",
       "    .dataframe tbody tr th {\n",
       "        vertical-align: top;\n",
       "    }\n",
       "\n",
       "    .dataframe thead th {\n",
       "        text-align: right;\n",
       "    }\n",
       "</style>\n",
       "<table border=\"1\" class=\"dataframe\">\n",
       "  <thead>\n",
       "    <tr style=\"text-align: right;\">\n",
       "      <th></th>\n",
       "      <th>Hypothesis;Reach;Impact;Confidence;Effort</th>\n",
       "    </tr>\n",
       "  </thead>\n",
       "  <tbody>\n",
       "    <tr>\n",
       "      <th>0</th>\n",
       "      <td>Add two new channels for attracting traffic. T...</td>\n",
       "    </tr>\n",
       "    <tr>\n",
       "      <th>1</th>\n",
       "      <td>Launch your own delivery service. This will sh...</td>\n",
       "    </tr>\n",
       "    <tr>\n",
       "      <th>2</th>\n",
       "      <td>Add product recommendation blocks to the store...</td>\n",
       "    </tr>\n",
       "    <tr>\n",
       "      <th>3</th>\n",
       "      <td>Change the category structure. This will incre...</td>\n",
       "    </tr>\n",
       "    <tr>\n",
       "      <th>4</th>\n",
       "      <td>Change the background color on the main page. ...</td>\n",
       "    </tr>\n",
       "    <tr>\n",
       "      <th>5</th>\n",
       "      <td>Add a customer review page. This will increase...</td>\n",
       "    </tr>\n",
       "    <tr>\n",
       "      <th>6</th>\n",
       "      <td>Show banners with current offers and sales on ...</td>\n",
       "    </tr>\n",
       "    <tr>\n",
       "      <th>7</th>\n",
       "      <td>Add a subscription form to all the main pages....</td>\n",
       "    </tr>\n",
       "    <tr>\n",
       "      <th>8</th>\n",
       "      <td>Launch a promotion that gives users discounts ...</td>\n",
       "    </tr>\n",
       "  </tbody>\n",
       "</table>\n",
       "</div>"
      ],
      "text/plain": [
       "           Hypothesis;Reach;Impact;Confidence;Effort\n",
       "0  Add two new channels for attracting traffic. T...\n",
       "1  Launch your own delivery service. This will sh...\n",
       "2  Add product recommendation blocks to the store...\n",
       "3  Change the category structure. This will incre...\n",
       "4  Change the background color on the main page. ...\n",
       "5  Add a customer review page. This will increase...\n",
       "6  Show banners with current offers and sales on ...\n",
       "7  Add a subscription form to all the main pages....\n",
       "8  Launch a promotion that gives users discounts ..."
      ]
     },
     "execution_count": 46,
     "metadata": {},
     "output_type": "execute_result"
    }
   ],
   "source": [
    "# memeriksa dataset hypothesis_df\n",
    "hypothesis_df"
   ]
  },
  {
   "cell_type": "markdown",
   "metadata": {},
   "source": [
    "- <font color = green> Temuan </font>\n",
    "\n",
    "Kita akan memisahkan masing-masing category agar mudah dibaca."
   ]
  },
  {
   "cell_type": "code",
   "execution_count": 47,
   "metadata": {},
   "outputs": [],
   "source": [
    "# memisah kolom RICE untuk masing-masing nilai yang dimiliki\n",
    "hypothesis_df[['Hypothesis', 'Reach', 'Impact', 'Confidence', 'Effort']] = hypothesis_df['Hypothesis;Reach;Impact;Confidence;Effort'].str.split(';', expand=True)\n",
    "\n",
    "# Menghapus kolom awal yang tidak terpisahkan\n",
    "hypothesis_df.drop('Hypothesis;Reach;Impact;Confidence;Effort', axis=1, inplace=True)\n",
    "\n",
    "# Mengganti nama kolom\n",
    "hypothesis_df.rename(columns={'Hypothesis': 'rice_hypothesis'}, inplace=True)\n"
   ]
  },
  {
   "cell_type": "code",
   "execution_count": 48,
   "metadata": {},
   "outputs": [
    {
     "data": {
      "text/html": [
       "<div>\n",
       "<style scoped>\n",
       "    .dataframe tbody tr th:only-of-type {\n",
       "        vertical-align: middle;\n",
       "    }\n",
       "\n",
       "    .dataframe tbody tr th {\n",
       "        vertical-align: top;\n",
       "    }\n",
       "\n",
       "    .dataframe thead th {\n",
       "        text-align: right;\n",
       "    }\n",
       "</style>\n",
       "<table border=\"1\" class=\"dataframe\">\n",
       "  <thead>\n",
       "    <tr style=\"text-align: right;\">\n",
       "      <th></th>\n",
       "      <th>rice_hypothesis</th>\n",
       "      <th>Reach</th>\n",
       "      <th>Impact</th>\n",
       "      <th>Confidence</th>\n",
       "      <th>Effort</th>\n",
       "    </tr>\n",
       "  </thead>\n",
       "  <tbody>\n",
       "    <tr>\n",
       "      <th>0</th>\n",
       "      <td>Add two new channels for attracting traffic. T...</td>\n",
       "      <td>3</td>\n",
       "      <td>10</td>\n",
       "      <td>8</td>\n",
       "      <td>6</td>\n",
       "    </tr>\n",
       "    <tr>\n",
       "      <th>1</th>\n",
       "      <td>Launch your own delivery service. This will sh...</td>\n",
       "      <td>2</td>\n",
       "      <td>5</td>\n",
       "      <td>4</td>\n",
       "      <td>10</td>\n",
       "    </tr>\n",
       "    <tr>\n",
       "      <th>2</th>\n",
       "      <td>Add product recommendation blocks to the store...</td>\n",
       "      <td>8</td>\n",
       "      <td>3</td>\n",
       "      <td>7</td>\n",
       "      <td>3</td>\n",
       "    </tr>\n",
       "    <tr>\n",
       "      <th>3</th>\n",
       "      <td>Change the category structure. This will incre...</td>\n",
       "      <td>8</td>\n",
       "      <td>3</td>\n",
       "      <td>3</td>\n",
       "      <td>8</td>\n",
       "    </tr>\n",
       "    <tr>\n",
       "      <th>4</th>\n",
       "      <td>Change the background color on the main page. ...</td>\n",
       "      <td>3</td>\n",
       "      <td>1</td>\n",
       "      <td>1</td>\n",
       "      <td>1</td>\n",
       "    </tr>\n",
       "    <tr>\n",
       "      <th>5</th>\n",
       "      <td>Add a customer review page. This will increase...</td>\n",
       "      <td>3</td>\n",
       "      <td>2</td>\n",
       "      <td>2</td>\n",
       "      <td>3</td>\n",
       "    </tr>\n",
       "    <tr>\n",
       "      <th>6</th>\n",
       "      <td>Show banners with current offers and sales on ...</td>\n",
       "      <td>5</td>\n",
       "      <td>3</td>\n",
       "      <td>8</td>\n",
       "      <td>3</td>\n",
       "    </tr>\n",
       "    <tr>\n",
       "      <th>7</th>\n",
       "      <td>Add a subscription form to all the main pages....</td>\n",
       "      <td>10</td>\n",
       "      <td>7</td>\n",
       "      <td>8</td>\n",
       "      <td>5</td>\n",
       "    </tr>\n",
       "    <tr>\n",
       "      <th>8</th>\n",
       "      <td>Launch a promotion that gives users discounts ...</td>\n",
       "      <td>1</td>\n",
       "      <td>9</td>\n",
       "      <td>9</td>\n",
       "      <td>5</td>\n",
       "    </tr>\n",
       "  </tbody>\n",
       "</table>\n",
       "</div>"
      ],
      "text/plain": [
       "                                     rice_hypothesis Reach Impact Confidence  \\\n",
       "0  Add two new channels for attracting traffic. T...     3     10          8   \n",
       "1  Launch your own delivery service. This will sh...     2      5          4   \n",
       "2  Add product recommendation blocks to the store...     8      3          7   \n",
       "3  Change the category structure. This will incre...     8      3          3   \n",
       "4  Change the background color on the main page. ...     3      1          1   \n",
       "5  Add a customer review page. This will increase...     3      2          2   \n",
       "6  Show banners with current offers and sales on ...     5      3          8   \n",
       "7  Add a subscription form to all the main pages....    10      7          8   \n",
       "8  Launch a promotion that gives users discounts ...     1      9          9   \n",
       "\n",
       "  Effort  \n",
       "0      6  \n",
       "1     10  \n",
       "2      3  \n",
       "3      8  \n",
       "4      1  \n",
       "5      3  \n",
       "6      3  \n",
       "7      5  \n",
       "8      5  "
      ]
     },
     "execution_count": 48,
     "metadata": {},
     "output_type": "execute_result"
    }
   ],
   "source": [
    "hypothesis_df"
   ]
  },
  {
   "cell_type": "markdown",
   "metadata": {},
   "source": [
    "- Mari kita buat kolom-kolom tersebut menjadi lowercase"
   ]
  },
  {
   "cell_type": "code",
   "execution_count": 49,
   "metadata": {},
   "outputs": [],
   "source": [
    "# Mengubah kolom menjadi lower case\n",
    "hypothesis_df.columns = hypothesis_df.columns.str.lower()"
   ]
  },
  {
   "cell_type": "code",
   "execution_count": 50,
   "metadata": {},
   "outputs": [
    {
     "data": {
      "text/html": [
       "<div>\n",
       "<style scoped>\n",
       "    .dataframe tbody tr th:only-of-type {\n",
       "        vertical-align: middle;\n",
       "    }\n",
       "\n",
       "    .dataframe tbody tr th {\n",
       "        vertical-align: top;\n",
       "    }\n",
       "\n",
       "    .dataframe thead th {\n",
       "        text-align: right;\n",
       "    }\n",
       "</style>\n",
       "<table border=\"1\" class=\"dataframe\">\n",
       "  <thead>\n",
       "    <tr style=\"text-align: right;\">\n",
       "      <th></th>\n",
       "      <th>rice_hypothesis</th>\n",
       "      <th>reach</th>\n",
       "      <th>impact</th>\n",
       "      <th>confidence</th>\n",
       "      <th>effort</th>\n",
       "    </tr>\n",
       "  </thead>\n",
       "  <tbody>\n",
       "    <tr>\n",
       "      <th>0</th>\n",
       "      <td>Add two new channels for attracting traffic. T...</td>\n",
       "      <td>3</td>\n",
       "      <td>10</td>\n",
       "      <td>8</td>\n",
       "      <td>6</td>\n",
       "    </tr>\n",
       "    <tr>\n",
       "      <th>1</th>\n",
       "      <td>Launch your own delivery service. This will sh...</td>\n",
       "      <td>2</td>\n",
       "      <td>5</td>\n",
       "      <td>4</td>\n",
       "      <td>10</td>\n",
       "    </tr>\n",
       "    <tr>\n",
       "      <th>2</th>\n",
       "      <td>Add product recommendation blocks to the store...</td>\n",
       "      <td>8</td>\n",
       "      <td>3</td>\n",
       "      <td>7</td>\n",
       "      <td>3</td>\n",
       "    </tr>\n",
       "    <tr>\n",
       "      <th>3</th>\n",
       "      <td>Change the category structure. This will incre...</td>\n",
       "      <td>8</td>\n",
       "      <td>3</td>\n",
       "      <td>3</td>\n",
       "      <td>8</td>\n",
       "    </tr>\n",
       "    <tr>\n",
       "      <th>4</th>\n",
       "      <td>Change the background color on the main page. ...</td>\n",
       "      <td>3</td>\n",
       "      <td>1</td>\n",
       "      <td>1</td>\n",
       "      <td>1</td>\n",
       "    </tr>\n",
       "    <tr>\n",
       "      <th>5</th>\n",
       "      <td>Add a customer review page. This will increase...</td>\n",
       "      <td>3</td>\n",
       "      <td>2</td>\n",
       "      <td>2</td>\n",
       "      <td>3</td>\n",
       "    </tr>\n",
       "    <tr>\n",
       "      <th>6</th>\n",
       "      <td>Show banners with current offers and sales on ...</td>\n",
       "      <td>5</td>\n",
       "      <td>3</td>\n",
       "      <td>8</td>\n",
       "      <td>3</td>\n",
       "    </tr>\n",
       "    <tr>\n",
       "      <th>7</th>\n",
       "      <td>Add a subscription form to all the main pages....</td>\n",
       "      <td>10</td>\n",
       "      <td>7</td>\n",
       "      <td>8</td>\n",
       "      <td>5</td>\n",
       "    </tr>\n",
       "    <tr>\n",
       "      <th>8</th>\n",
       "      <td>Launch a promotion that gives users discounts ...</td>\n",
       "      <td>1</td>\n",
       "      <td>9</td>\n",
       "      <td>9</td>\n",
       "      <td>5</td>\n",
       "    </tr>\n",
       "  </tbody>\n",
       "</table>\n",
       "</div>"
      ],
      "text/plain": [
       "                                     rice_hypothesis reach impact confidence  \\\n",
       "0  Add two new channels for attracting traffic. T...     3     10          8   \n",
       "1  Launch your own delivery service. This will sh...     2      5          4   \n",
       "2  Add product recommendation blocks to the store...     8      3          7   \n",
       "3  Change the category structure. This will incre...     8      3          3   \n",
       "4  Change the background color on the main page. ...     3      1          1   \n",
       "5  Add a customer review page. This will increase...     3      2          2   \n",
       "6  Show banners with current offers and sales on ...     5      3          8   \n",
       "7  Add a subscription form to all the main pages....    10      7          8   \n",
       "8  Launch a promotion that gives users discounts ...     1      9          9   \n",
       "\n",
       "  effort  \n",
       "0      6  \n",
       "1     10  \n",
       "2      3  \n",
       "3      8  \n",
       "4      1  \n",
       "5      3  \n",
       "6      3  \n",
       "7      5  \n",
       "8      5  "
      ]
     },
     "execution_count": 50,
     "metadata": {},
     "output_type": "execute_result"
    }
   ],
   "source": [
    "# Muat ulang dataset\n",
    "hypothesis_df"
   ]
  },
  {
   "cell_type": "code",
   "execution_count": 51,
   "metadata": {},
   "outputs": [
    {
     "name": "stdout",
     "output_type": "stream",
     "text": [
      "<class 'pandas.core.frame.DataFrame'>\n",
      "RangeIndex: 9 entries, 0 to 8\n",
      "Data columns (total 5 columns):\n",
      " #   Column           Non-Null Count  Dtype \n",
      "---  ------           --------------  ----- \n",
      " 0   rice_hypothesis  9 non-null      object\n",
      " 1   reach            9 non-null      object\n",
      " 2   impact           9 non-null      object\n",
      " 3   confidence       9 non-null      object\n",
      " 4   effort           9 non-null      object\n",
      "dtypes: object(5)\n",
      "memory usage: 488.0+ bytes\n"
     ]
    }
   ],
   "source": [
    "# periksa kembali informasi hypothesis_df\n",
    "hypothesis_df.info()"
   ]
  },
  {
   "cell_type": "markdown",
   "metadata": {},
   "source": [
    "- Kita harus mengubah nilai RICE menjadi integer agar bisa dihitung."
   ]
  },
  {
   "cell_type": "code",
   "execution_count": 52,
   "metadata": {},
   "outputs": [],
   "source": [
    "# Mengubah kolom-kolom tertentu menjadi tipe data integer\n",
    "cols_to_convert = ['reach', 'impact', 'confidence', 'effort']\n",
    "hypothesis_df[cols_to_convert] = hypothesis_df[cols_to_convert].astype(int)\n"
   ]
  },
  {
   "cell_type": "code",
   "execution_count": 53,
   "metadata": {},
   "outputs": [
    {
     "name": "stdout",
     "output_type": "stream",
     "text": [
      "<class 'pandas.core.frame.DataFrame'>\n",
      "RangeIndex: 9 entries, 0 to 8\n",
      "Data columns (total 5 columns):\n",
      " #   Column           Non-Null Count  Dtype \n",
      "---  ------           --------------  ----- \n",
      " 0   rice_hypothesis  9 non-null      object\n",
      " 1   reach            9 non-null      int64 \n",
      " 2   impact           9 non-null      int64 \n",
      " 3   confidence       9 non-null      int64 \n",
      " 4   effort           9 non-null      int64 \n",
      "dtypes: int64(4), object(1)\n",
      "memory usage: 488.0+ bytes\n"
     ]
    }
   ],
   "source": [
    "# periksa kembali informasi hypothesis_df\n",
    "hypothesis_df.info()"
   ]
  },
  {
   "cell_type": "markdown",
   "metadata": {},
   "source": [
    "- <font color = green> Kesimpulan Sementara </font>\n",
    "\n",
    "Dataset hypothesis_df perlu diperbaiki agar mudah untuk melihat kondisi nilai hypothesis RICE yang dimiliki."
   ]
  },
  {
   "cell_type": "markdown",
   "metadata": {},
   "source": [
    "------"
   ]
  },
  {
   "cell_type": "markdown",
   "metadata": {},
   "source": [
    "### Pra-pemrosesan orders_df"
   ]
  },
  {
   "cell_type": "code",
   "execution_count": 54,
   "metadata": {},
   "outputs": [
    {
     "name": "stdout",
     "output_type": "stream",
     "text": [
      "<class 'pandas.core.frame.DataFrame'>\n",
      "RangeIndex: 1197 entries, 0 to 1196\n",
      "Data columns (total 5 columns):\n",
      " #   Column         Non-Null Count  Dtype  \n",
      "---  ------         --------------  -----  \n",
      " 0   transactionId  1197 non-null   int64  \n",
      " 1   visitorId      1197 non-null   int64  \n",
      " 2   date           1197 non-null   object \n",
      " 3   revenue        1197 non-null   float64\n",
      " 4   group          1197 non-null   object \n",
      "dtypes: float64(1), int64(2), object(2)\n",
      "memory usage: 46.9+ KB\n"
     ]
    }
   ],
   "source": [
    "# Memulai dari orders_df \n",
    "# Memeriksa informasi orders_df\n",
    "orders_df.info()"
   ]
  },
  {
   "cell_type": "markdown",
   "metadata": {},
   "source": [
    "- <font color = green> Temuan </font>\n",
    "\n",
    "Tidak ada data yang hilang untuk dataset ini. Mungkin kita akan mengubah beberapa nama kolom dan tipe data yang perlu disesuaikan."
   ]
  },
  {
   "cell_type": "code",
   "execution_count": 55,
   "metadata": {},
   "outputs": [
    {
     "data": {
      "text/html": [
       "<div>\n",
       "<style scoped>\n",
       "    .dataframe tbody tr th:only-of-type {\n",
       "        vertical-align: middle;\n",
       "    }\n",
       "\n",
       "    .dataframe tbody tr th {\n",
       "        vertical-align: top;\n",
       "    }\n",
       "\n",
       "    .dataframe thead th {\n",
       "        text-align: right;\n",
       "    }\n",
       "</style>\n",
       "<table border=\"1\" class=\"dataframe\">\n",
       "  <thead>\n",
       "    <tr style=\"text-align: right;\">\n",
       "      <th></th>\n",
       "      <th>transactionId</th>\n",
       "      <th>visitorId</th>\n",
       "      <th>date</th>\n",
       "      <th>revenue</th>\n",
       "      <th>group</th>\n",
       "    </tr>\n",
       "  </thead>\n",
       "  <tbody>\n",
       "    <tr>\n",
       "      <th>0</th>\n",
       "      <td>3667963787</td>\n",
       "      <td>3312258926</td>\n",
       "      <td>2019-08-15</td>\n",
       "      <td>30.4</td>\n",
       "      <td>B</td>\n",
       "    </tr>\n",
       "    <tr>\n",
       "      <th>1</th>\n",
       "      <td>2804400009</td>\n",
       "      <td>3642806036</td>\n",
       "      <td>2019-08-15</td>\n",
       "      <td>15.2</td>\n",
       "      <td>B</td>\n",
       "    </tr>\n",
       "    <tr>\n",
       "      <th>2</th>\n",
       "      <td>2961555356</td>\n",
       "      <td>4069496402</td>\n",
       "      <td>2019-08-15</td>\n",
       "      <td>10.2</td>\n",
       "      <td>A</td>\n",
       "    </tr>\n",
       "    <tr>\n",
       "      <th>3</th>\n",
       "      <td>3797467345</td>\n",
       "      <td>1196621759</td>\n",
       "      <td>2019-08-15</td>\n",
       "      <td>155.1</td>\n",
       "      <td>B</td>\n",
       "    </tr>\n",
       "    <tr>\n",
       "      <th>4</th>\n",
       "      <td>2282983706</td>\n",
       "      <td>2322279887</td>\n",
       "      <td>2019-08-15</td>\n",
       "      <td>40.5</td>\n",
       "      <td>B</td>\n",
       "    </tr>\n",
       "    <tr>\n",
       "      <th>...</th>\n",
       "      <td>...</td>\n",
       "      <td>...</td>\n",
       "      <td>...</td>\n",
       "      <td>...</td>\n",
       "      <td>...</td>\n",
       "    </tr>\n",
       "    <tr>\n",
       "      <th>1192</th>\n",
       "      <td>2662137336</td>\n",
       "      <td>3733762160</td>\n",
       "      <td>2019-08-14</td>\n",
       "      <td>100.8</td>\n",
       "      <td>B</td>\n",
       "    </tr>\n",
       "    <tr>\n",
       "      <th>1193</th>\n",
       "      <td>2203539145</td>\n",
       "      <td>370388673</td>\n",
       "      <td>2019-08-14</td>\n",
       "      <td>50.1</td>\n",
       "      <td>A</td>\n",
       "    </tr>\n",
       "    <tr>\n",
       "      <th>1194</th>\n",
       "      <td>1807773912</td>\n",
       "      <td>573423106</td>\n",
       "      <td>2019-08-14</td>\n",
       "      <td>165.3</td>\n",
       "      <td>A</td>\n",
       "    </tr>\n",
       "    <tr>\n",
       "      <th>1195</th>\n",
       "      <td>1947021204</td>\n",
       "      <td>1614305549</td>\n",
       "      <td>2019-08-14</td>\n",
       "      <td>5.5</td>\n",
       "      <td>A</td>\n",
       "    </tr>\n",
       "    <tr>\n",
       "      <th>1196</th>\n",
       "      <td>3936777065</td>\n",
       "      <td>2108080724</td>\n",
       "      <td>2019-08-15</td>\n",
       "      <td>3120.1</td>\n",
       "      <td>B</td>\n",
       "    </tr>\n",
       "  </tbody>\n",
       "</table>\n",
       "<p>1197 rows × 5 columns</p>\n",
       "</div>"
      ],
      "text/plain": [
       "      transactionId   visitorId        date  revenue group\n",
       "0        3667963787  3312258926  2019-08-15     30.4     B\n",
       "1        2804400009  3642806036  2019-08-15     15.2     B\n",
       "2        2961555356  4069496402  2019-08-15     10.2     A\n",
       "3        3797467345  1196621759  2019-08-15    155.1     B\n",
       "4        2282983706  2322279887  2019-08-15     40.5     B\n",
       "...             ...         ...         ...      ...   ...\n",
       "1192     2662137336  3733762160  2019-08-14    100.8     B\n",
       "1193     2203539145   370388673  2019-08-14     50.1     A\n",
       "1194     1807773912   573423106  2019-08-14    165.3     A\n",
       "1195     1947021204  1614305549  2019-08-14      5.5     A\n",
       "1196     3936777065  2108080724  2019-08-15   3120.1     B\n",
       "\n",
       "[1197 rows x 5 columns]"
      ]
     },
     "execution_count": 55,
     "metadata": {},
     "output_type": "execute_result"
    }
   ],
   "source": [
    "# Memeriksa isi dari orders_df\n",
    "orders_df"
   ]
  },
  {
   "cell_type": "code",
   "execution_count": 56,
   "metadata": {},
   "outputs": [],
   "source": [
    "# mengubah nama untuk transcationid dan visitorid ke dalam bentuk penulisan snake_case\n",
    "orders_df.rename(columns={'transactionId': 'transaction_id', 'visitorId': 'visitor_id'}, inplace=True)"
   ]
  },
  {
   "cell_type": "code",
   "execution_count": 57,
   "metadata": {},
   "outputs": [],
   "source": [
    "# mengubah tipe data date menjadi datetime\n",
    "orders_df['date'] = pd.to_datetime(orders_df['date'])"
   ]
  },
  {
   "cell_type": "code",
   "execution_count": 58,
   "metadata": {},
   "outputs": [
    {
     "name": "stdout",
     "output_type": "stream",
     "text": [
      "<class 'pandas.core.frame.DataFrame'>\n",
      "RangeIndex: 1197 entries, 0 to 1196\n",
      "Data columns (total 5 columns):\n",
      " #   Column          Non-Null Count  Dtype         \n",
      "---  ------          --------------  -----         \n",
      " 0   transaction_id  1197 non-null   int64         \n",
      " 1   visitor_id      1197 non-null   int64         \n",
      " 2   date            1197 non-null   datetime64[ns]\n",
      " 3   revenue         1197 non-null   float64       \n",
      " 4   group           1197 non-null   object        \n",
      "dtypes: datetime64[ns](1), float64(1), int64(2), object(1)\n",
      "memory usage: 46.9+ KB\n"
     ]
    }
   ],
   "source": [
    "# memeriksa ulang informasi orders_df\n",
    "orders_df.info()"
   ]
  },
  {
   "cell_type": "markdown",
   "metadata": {},
   "source": [
    "- Untuk tipe data kolom revenue akan kita biarkan, karena secara bawaan nilai tersebut sudah ada angka dibelakang koma."
   ]
  },
  {
   "cell_type": "code",
   "execution_count": 59,
   "metadata": {},
   "outputs": [
    {
     "data": {
      "text/html": [
       "<div>\n",
       "<style scoped>\n",
       "    .dataframe tbody tr th:only-of-type {\n",
       "        vertical-align: middle;\n",
       "    }\n",
       "\n",
       "    .dataframe tbody tr th {\n",
       "        vertical-align: top;\n",
       "    }\n",
       "\n",
       "    .dataframe thead th {\n",
       "        text-align: right;\n",
       "    }\n",
       "</style>\n",
       "<table border=\"1\" class=\"dataframe\">\n",
       "  <thead>\n",
       "    <tr style=\"text-align: right;\">\n",
       "      <th></th>\n",
       "      <th>transaction_id</th>\n",
       "      <th>visitor_id</th>\n",
       "      <th>date</th>\n",
       "      <th>revenue</th>\n",
       "      <th>group</th>\n",
       "    </tr>\n",
       "  </thead>\n",
       "  <tbody>\n",
       "    <tr>\n",
       "      <th>0</th>\n",
       "      <td>3667963787</td>\n",
       "      <td>3312258926</td>\n",
       "      <td>2019-08-15</td>\n",
       "      <td>30.4</td>\n",
       "      <td>B</td>\n",
       "    </tr>\n",
       "    <tr>\n",
       "      <th>1</th>\n",
       "      <td>2804400009</td>\n",
       "      <td>3642806036</td>\n",
       "      <td>2019-08-15</td>\n",
       "      <td>15.2</td>\n",
       "      <td>B</td>\n",
       "    </tr>\n",
       "    <tr>\n",
       "      <th>2</th>\n",
       "      <td>2961555356</td>\n",
       "      <td>4069496402</td>\n",
       "      <td>2019-08-15</td>\n",
       "      <td>10.2</td>\n",
       "      <td>A</td>\n",
       "    </tr>\n",
       "    <tr>\n",
       "      <th>3</th>\n",
       "      <td>3797467345</td>\n",
       "      <td>1196621759</td>\n",
       "      <td>2019-08-15</td>\n",
       "      <td>155.1</td>\n",
       "      <td>B</td>\n",
       "    </tr>\n",
       "    <tr>\n",
       "      <th>4</th>\n",
       "      <td>2282983706</td>\n",
       "      <td>2322279887</td>\n",
       "      <td>2019-08-15</td>\n",
       "      <td>40.5</td>\n",
       "      <td>B</td>\n",
       "    </tr>\n",
       "    <tr>\n",
       "      <th>...</th>\n",
       "      <td>...</td>\n",
       "      <td>...</td>\n",
       "      <td>...</td>\n",
       "      <td>...</td>\n",
       "      <td>...</td>\n",
       "    </tr>\n",
       "    <tr>\n",
       "      <th>1192</th>\n",
       "      <td>2662137336</td>\n",
       "      <td>3733762160</td>\n",
       "      <td>2019-08-14</td>\n",
       "      <td>100.8</td>\n",
       "      <td>B</td>\n",
       "    </tr>\n",
       "    <tr>\n",
       "      <th>1193</th>\n",
       "      <td>2203539145</td>\n",
       "      <td>370388673</td>\n",
       "      <td>2019-08-14</td>\n",
       "      <td>50.1</td>\n",
       "      <td>A</td>\n",
       "    </tr>\n",
       "    <tr>\n",
       "      <th>1194</th>\n",
       "      <td>1807773912</td>\n",
       "      <td>573423106</td>\n",
       "      <td>2019-08-14</td>\n",
       "      <td>165.3</td>\n",
       "      <td>A</td>\n",
       "    </tr>\n",
       "    <tr>\n",
       "      <th>1195</th>\n",
       "      <td>1947021204</td>\n",
       "      <td>1614305549</td>\n",
       "      <td>2019-08-14</td>\n",
       "      <td>5.5</td>\n",
       "      <td>A</td>\n",
       "    </tr>\n",
       "    <tr>\n",
       "      <th>1196</th>\n",
       "      <td>3936777065</td>\n",
       "      <td>2108080724</td>\n",
       "      <td>2019-08-15</td>\n",
       "      <td>3120.1</td>\n",
       "      <td>B</td>\n",
       "    </tr>\n",
       "  </tbody>\n",
       "</table>\n",
       "<p>1197 rows × 5 columns</p>\n",
       "</div>"
      ],
      "text/plain": [
       "      transaction_id  visitor_id       date  revenue group\n",
       "0         3667963787  3312258926 2019-08-15     30.4     B\n",
       "1         2804400009  3642806036 2019-08-15     15.2     B\n",
       "2         2961555356  4069496402 2019-08-15     10.2     A\n",
       "3         3797467345  1196621759 2019-08-15    155.1     B\n",
       "4         2282983706  2322279887 2019-08-15     40.5     B\n",
       "...              ...         ...        ...      ...   ...\n",
       "1192      2662137336  3733762160 2019-08-14    100.8     B\n",
       "1193      2203539145   370388673 2019-08-14     50.1     A\n",
       "1194      1807773912   573423106 2019-08-14    165.3     A\n",
       "1195      1947021204  1614305549 2019-08-14      5.5     A\n",
       "1196      3936777065  2108080724 2019-08-15   3120.1     B\n",
       "\n",
       "[1197 rows x 5 columns]"
      ]
     },
     "execution_count": 59,
     "metadata": {},
     "output_type": "execute_result"
    }
   ],
   "source": [
    "# memeriksa ulang isi dari orders_df\n",
    "orders_df"
   ]
  },
  {
   "cell_type": "markdown",
   "metadata": {},
   "source": [
    "- <font color = green> Kesimpulan Sementara </font>\n",
    "\n",
    "Untuk dataset orders_df, terdapat sedikit perubahan untuk nama kolom juga untuk tipe data yang disesuaikan."
   ]
  },
  {
   "cell_type": "markdown",
   "metadata": {},
   "source": [
    "-----"
   ]
  },
  {
   "cell_type": "markdown",
   "metadata": {},
   "source": [
    "### Pra-pemrosesan visitors_df"
   ]
  },
  {
   "cell_type": "code",
   "execution_count": 60,
   "metadata": {},
   "outputs": [
    {
     "name": "stdout",
     "output_type": "stream",
     "text": [
      "<class 'pandas.core.frame.DataFrame'>\n",
      "RangeIndex: 62 entries, 0 to 61\n",
      "Data columns (total 3 columns):\n",
      " #   Column  Non-Null Count  Dtype \n",
      "---  ------  --------------  ----- \n",
      " 0   date    62 non-null     object\n",
      " 1   group   62 non-null     object\n",
      " 2   visits  62 non-null     int64 \n",
      "dtypes: int64(1), object(2)\n",
      "memory usage: 1.6+ KB\n"
     ]
    }
   ],
   "source": [
    "# Memulai dari visitors_df \n",
    "# Memeriksa informasi visitors_df\n",
    "visitors_df.info()"
   ]
  },
  {
   "cell_type": "code",
   "execution_count": 61,
   "metadata": {},
   "outputs": [
    {
     "data": {
      "text/html": [
       "<div>\n",
       "<style scoped>\n",
       "    .dataframe tbody tr th:only-of-type {\n",
       "        vertical-align: middle;\n",
       "    }\n",
       "\n",
       "    .dataframe tbody tr th {\n",
       "        vertical-align: top;\n",
       "    }\n",
       "\n",
       "    .dataframe thead th {\n",
       "        text-align: right;\n",
       "    }\n",
       "</style>\n",
       "<table border=\"1\" class=\"dataframe\">\n",
       "  <thead>\n",
       "    <tr style=\"text-align: right;\">\n",
       "      <th></th>\n",
       "      <th>date</th>\n",
       "      <th>group</th>\n",
       "      <th>visits</th>\n",
       "    </tr>\n",
       "  </thead>\n",
       "  <tbody>\n",
       "    <tr>\n",
       "      <th>0</th>\n",
       "      <td>2019-08-01</td>\n",
       "      <td>A</td>\n",
       "      <td>719</td>\n",
       "    </tr>\n",
       "    <tr>\n",
       "      <th>1</th>\n",
       "      <td>2019-08-02</td>\n",
       "      <td>A</td>\n",
       "      <td>619</td>\n",
       "    </tr>\n",
       "    <tr>\n",
       "      <th>2</th>\n",
       "      <td>2019-08-03</td>\n",
       "      <td>A</td>\n",
       "      <td>507</td>\n",
       "    </tr>\n",
       "    <tr>\n",
       "      <th>3</th>\n",
       "      <td>2019-08-04</td>\n",
       "      <td>A</td>\n",
       "      <td>717</td>\n",
       "    </tr>\n",
       "    <tr>\n",
       "      <th>4</th>\n",
       "      <td>2019-08-05</td>\n",
       "      <td>A</td>\n",
       "      <td>756</td>\n",
       "    </tr>\n",
       "    <tr>\n",
       "      <th>...</th>\n",
       "      <td>...</td>\n",
       "      <td>...</td>\n",
       "      <td>...</td>\n",
       "    </tr>\n",
       "    <tr>\n",
       "      <th>57</th>\n",
       "      <td>2019-08-27</td>\n",
       "      <td>B</td>\n",
       "      <td>720</td>\n",
       "    </tr>\n",
       "    <tr>\n",
       "      <th>58</th>\n",
       "      <td>2019-08-28</td>\n",
       "      <td>B</td>\n",
       "      <td>654</td>\n",
       "    </tr>\n",
       "    <tr>\n",
       "      <th>59</th>\n",
       "      <td>2019-08-29</td>\n",
       "      <td>B</td>\n",
       "      <td>531</td>\n",
       "    </tr>\n",
       "    <tr>\n",
       "      <th>60</th>\n",
       "      <td>2019-08-30</td>\n",
       "      <td>B</td>\n",
       "      <td>490</td>\n",
       "    </tr>\n",
       "    <tr>\n",
       "      <th>61</th>\n",
       "      <td>2019-08-31</td>\n",
       "      <td>B</td>\n",
       "      <td>718</td>\n",
       "    </tr>\n",
       "  </tbody>\n",
       "</table>\n",
       "<p>62 rows × 3 columns</p>\n",
       "</div>"
      ],
      "text/plain": [
       "          date group  visits\n",
       "0   2019-08-01     A     719\n",
       "1   2019-08-02     A     619\n",
       "2   2019-08-03     A     507\n",
       "3   2019-08-04     A     717\n",
       "4   2019-08-05     A     756\n",
       "..         ...   ...     ...\n",
       "57  2019-08-27     B     720\n",
       "58  2019-08-28     B     654\n",
       "59  2019-08-29     B     531\n",
       "60  2019-08-30     B     490\n",
       "61  2019-08-31     B     718\n",
       "\n",
       "[62 rows x 3 columns]"
      ]
     },
     "execution_count": 61,
     "metadata": {},
     "output_type": "execute_result"
    }
   ],
   "source": [
    "# memeriksa isi dari dataset visitors_df\n",
    "visitors_df"
   ]
  },
  {
   "cell_type": "markdown",
   "metadata": {},
   "source": [
    "- <font color = green> Temuan </font>\n",
    "\n",
    "Kita akan merubah tipe data date menjadi tipe data yang sesuai."
   ]
  },
  {
   "cell_type": "code",
   "execution_count": 62,
   "metadata": {},
   "outputs": [],
   "source": [
    "# mengubah tipe data date pada dataset visitors_df\n",
    "visitors_df['date'] = pd.to_datetime(visitors_df['date'])"
   ]
  },
  {
   "cell_type": "code",
   "execution_count": 63,
   "metadata": {},
   "outputs": [
    {
     "name": "stdout",
     "output_type": "stream",
     "text": [
      "<class 'pandas.core.frame.DataFrame'>\n",
      "RangeIndex: 62 entries, 0 to 61\n",
      "Data columns (total 3 columns):\n",
      " #   Column  Non-Null Count  Dtype         \n",
      "---  ------  --------------  -----         \n",
      " 0   date    62 non-null     datetime64[ns]\n",
      " 1   group   62 non-null     object        \n",
      " 2   visits  62 non-null     int64         \n",
      "dtypes: datetime64[ns](1), int64(1), object(1)\n",
      "memory usage: 1.6+ KB\n"
     ]
    }
   ],
   "source": [
    "# memeriksa kembali informasi pada dataset visitors_df\n",
    "visitors_df.info()"
   ]
  },
  {
   "cell_type": "code",
   "execution_count": 64,
   "metadata": {},
   "outputs": [
    {
     "data": {
      "text/html": [
       "<div>\n",
       "<style scoped>\n",
       "    .dataframe tbody tr th:only-of-type {\n",
       "        vertical-align: middle;\n",
       "    }\n",
       "\n",
       "    .dataframe tbody tr th {\n",
       "        vertical-align: top;\n",
       "    }\n",
       "\n",
       "    .dataframe thead th {\n",
       "        text-align: right;\n",
       "    }\n",
       "</style>\n",
       "<table border=\"1\" class=\"dataframe\">\n",
       "  <thead>\n",
       "    <tr style=\"text-align: right;\">\n",
       "      <th></th>\n",
       "      <th>date</th>\n",
       "      <th>group</th>\n",
       "      <th>visits</th>\n",
       "    </tr>\n",
       "  </thead>\n",
       "  <tbody>\n",
       "    <tr>\n",
       "      <th>0</th>\n",
       "      <td>2019-08-01</td>\n",
       "      <td>A</td>\n",
       "      <td>719</td>\n",
       "    </tr>\n",
       "    <tr>\n",
       "      <th>1</th>\n",
       "      <td>2019-08-02</td>\n",
       "      <td>A</td>\n",
       "      <td>619</td>\n",
       "    </tr>\n",
       "    <tr>\n",
       "      <th>2</th>\n",
       "      <td>2019-08-03</td>\n",
       "      <td>A</td>\n",
       "      <td>507</td>\n",
       "    </tr>\n",
       "    <tr>\n",
       "      <th>3</th>\n",
       "      <td>2019-08-04</td>\n",
       "      <td>A</td>\n",
       "      <td>717</td>\n",
       "    </tr>\n",
       "    <tr>\n",
       "      <th>4</th>\n",
       "      <td>2019-08-05</td>\n",
       "      <td>A</td>\n",
       "      <td>756</td>\n",
       "    </tr>\n",
       "    <tr>\n",
       "      <th>...</th>\n",
       "      <td>...</td>\n",
       "      <td>...</td>\n",
       "      <td>...</td>\n",
       "    </tr>\n",
       "    <tr>\n",
       "      <th>57</th>\n",
       "      <td>2019-08-27</td>\n",
       "      <td>B</td>\n",
       "      <td>720</td>\n",
       "    </tr>\n",
       "    <tr>\n",
       "      <th>58</th>\n",
       "      <td>2019-08-28</td>\n",
       "      <td>B</td>\n",
       "      <td>654</td>\n",
       "    </tr>\n",
       "    <tr>\n",
       "      <th>59</th>\n",
       "      <td>2019-08-29</td>\n",
       "      <td>B</td>\n",
       "      <td>531</td>\n",
       "    </tr>\n",
       "    <tr>\n",
       "      <th>60</th>\n",
       "      <td>2019-08-30</td>\n",
       "      <td>B</td>\n",
       "      <td>490</td>\n",
       "    </tr>\n",
       "    <tr>\n",
       "      <th>61</th>\n",
       "      <td>2019-08-31</td>\n",
       "      <td>B</td>\n",
       "      <td>718</td>\n",
       "    </tr>\n",
       "  </tbody>\n",
       "</table>\n",
       "<p>62 rows × 3 columns</p>\n",
       "</div>"
      ],
      "text/plain": [
       "         date group  visits\n",
       "0  2019-08-01     A     719\n",
       "1  2019-08-02     A     619\n",
       "2  2019-08-03     A     507\n",
       "3  2019-08-04     A     717\n",
       "4  2019-08-05     A     756\n",
       "..        ...   ...     ...\n",
       "57 2019-08-27     B     720\n",
       "58 2019-08-28     B     654\n",
       "59 2019-08-29     B     531\n",
       "60 2019-08-30     B     490\n",
       "61 2019-08-31     B     718\n",
       "\n",
       "[62 rows x 3 columns]"
      ]
     },
     "execution_count": 64,
     "metadata": {},
     "output_type": "execute_result"
    }
   ],
   "source": [
    "# memeriksa kembali isi dari dataset visitors_df\n",
    "visitors_df"
   ]
  },
  {
   "cell_type": "markdown",
   "metadata": {},
   "source": [
    "- <font color = green> Kesimpulan Sementara </font>\n",
    "\n",
    "Untuk visitors_df, hanya terdapat kolom `date` yang perlu diubah dengan tipe data yang sesuai.\n"
   ]
  },
  {
   "cell_type": "markdown",
   "metadata": {},
   "source": [
    "---------"
   ]
  },
  {
   "cell_type": "markdown",
   "metadata": {},
   "source": [
    "## Memprioritaskan Hipotesis\n",
    "\n",
    "- File hypotheses_us.csv memuat sembilan hipotesis untuk meningkatkan pendapatan toko online dengan Reach, Impact, Confidence, dan Effort yang sudah ditentukan untuk masing-masing hipotesis."
   ]
  },
  {
   "cell_type": "markdown",
   "metadata": {},
   "source": [
    "### Menerapkan Framework ICE \n",
    "- Untuk memprioritaskan hipotesis. Urutkan hipotesis tersebut dalam urutan prioritas menurun."
   ]
  },
  {
   "cell_type": "code",
   "execution_count": 65,
   "metadata": {},
   "outputs": [
    {
     "name": "stdout",
     "output_type": "stream",
     "text": [
      "                                     rice_hypothesis        ICE\n",
      "8  Launch a promotion that gives users discounts ...  16.200000\n",
      "0  Add two new channels for attracting traffic. T...  13.333333\n",
      "7  Add a subscription form to all the main pages....  11.200000\n",
      "6  Show banners with current offers and sales on ...   8.000000\n",
      "2  Add product recommendation blocks to the store...   7.000000\n",
      "1  Launch your own delivery service. This will sh...   2.000000\n",
      "5  Add a customer review page. This will increase...   1.333333\n",
      "3  Change the category structure. This will incre...   1.125000\n",
      "4  Change the background color on the main page. ...   1.000000\n"
     ]
    }
   ],
   "source": [
    "# Perhitungan framework ICE\n",
    "\n",
    "hypothesis_df['ICE'] = (hypothesis_df['impact']*hypothesis_df['confidence']) / hypothesis_df['effort']\n",
    "\n",
    "print(hypothesis_df[['rice_hypothesis', 'ICE']].sort_values(by = 'ICE', ascending = False))"
   ]
  },
  {
   "cell_type": "code",
   "execution_count": 66,
   "metadata": {},
   "outputs": [
    {
     "data": {
      "image/png": "[encoded data removed]",
      "text/plain": [
       "<Figure size 432x720 with 1 Axes>"
      ]
     },
     "metadata": {
      "needs_background": "light"
     },
     "output_type": "display_data"
    }
   ],
   "source": [
    "# Visualisasi hasil perhitungan ICE dalam prioritas menurun\n",
    "hypothesis_df = hypothesis_df.sort_values(by='ICE', ascending=False)\n",
    "plt.figure(figsize=(6, 10))\n",
    "plt.barh(hypothesis_df['rice_hypothesis'], hypothesis_df['ICE'], color='skyblue')\n",
    "plt.xlabel('ICE Score')\n",
    "plt.ylabel('Hypotheses')\n",
    "plt.title('ICE Scores for Hypotheses')\n",
    "plt.show()"
   ]
  },
  {
   "cell_type": "markdown",
   "metadata": {},
   "source": [
    "- <font color = green> Kesimpulan Sementara </font>\n",
    "\n",
    "Berikut penerapkan Framework ICE secara menurun:\n",
    "\n",
    "              rice_hypothesis                    ICE\n",
    "- 8  Launch a promotion that gives users discounts ...  --    16.200000\n",
    "\n",
    "- 0  Add two new channels for attracting traffic. T...  --    13.333333\n",
    "\n",
    "- 7  Add a subscription form to all the main pages....  --    11.200000\n",
    "\n",
    "- 6  Show banners with current offers and sales on ...  --     8.000000\n",
    "\n",
    "- 2  Add product recommendation blocks to the store...  --     7.000000\n",
    "\n",
    "- 1  Launch your own delivery service. This will sh...  --     2.000000\n",
    "\n",
    "- 5  Add a customer review page. This will increase...  --     1.333333\n",
    "\n",
    "- 3  Change the category structure. This will incre...  --     1.125000\n",
    "\n",
    "- 4  Change the background color on the main page. ...  --     1.000000"
   ]
  },
  {
   "cell_type": "markdown",
   "metadata": {},
   "source": [
    "--------"
   ]
  },
  {
   "cell_type": "markdown",
   "metadata": {},
   "source": [
    "### Menerapkan Framework RICE \n",
    "\n",
    "- Untuk memprioritaskan hipotesis. Urutkan hipotesis tersebut dalam urutan prioritas menurun."
   ]
  },
  {
   "cell_type": "code",
   "execution_count": 67,
   "metadata": {},
   "outputs": [
    {
     "name": "stdout",
     "output_type": "stream",
     "text": [
      "                                     rice_hypothesis   RICE\n",
      "7  Add a subscription form to all the main pages....  112.0\n",
      "2  Add product recommendation blocks to the store...   56.0\n",
      "0  Add two new channels for attracting traffic. T...   40.0\n",
      "6  Show banners with current offers and sales on ...   40.0\n",
      "8  Launch a promotion that gives users discounts ...   16.2\n",
      "3  Change the category structure. This will incre...    9.0\n",
      "1  Launch your own delivery service. This will sh...    4.0\n",
      "5  Add a customer review page. This will increase...    4.0\n",
      "4  Change the background color on the main page. ...    3.0\n"
     ]
    }
   ],
   "source": [
    "# Perhitungan framework RICE\n",
    "hypothesis_df['RICE'] = (hypothesis_df['reach'] * hypothesis_df['impact'] * hypothesis_df['confidence']) / hypothesis_df['effort']\n",
    "\n",
    "print(hypothesis_df[['rice_hypothesis', 'RICE']].sort_values(by= 'RICE', ascending = False))"
   ]
  },
  {
   "cell_type": "code",
   "execution_count": 68,
   "metadata": {},
   "outputs": [
    {
     "data": {
      "image/png": "[encoded data removed]",
      "text/plain": [
       "<Figure size 432x720 with 1 Axes>"
      ]
     },
     "metadata": {
      "needs_background": "light"
     },
     "output_type": "display_data"
    }
   ],
   "source": [
    "hypothesis_df = hypothesis_df.sort_values(by='RICE', ascending=False)\n",
    "plt.figure(figsize=(6, 10))\n",
    "plt.barh(hypothesis_df['rice_hypothesis'], hypothesis_df['RICE'], color='skyblue')\n",
    "plt.xlabel('RICE Score')\n",
    "plt.ylabel('Hypotheses')\n",
    "plt.title('RICE Scores for Hypotheses')\n",
    "plt.show()"
   ]
  },
  {
   "cell_type": "markdown",
   "metadata": {},
   "source": [
    "- <font color = green > Kesimpulan Sementara </font>\n",
    "\n",
    "Berikut penerapkan Framework RICE secara menurun:\n",
    "                        \n",
    "                        rice_hypothesis       RICE\n",
    "\n",
    "- 7  Add a subscription form to all the main pages.... -- 112.0\n",
    "- 2  Add product recommendation blocks to the store... --  56.0\n",
    "- 0  Add two new channels for attracting traffic. T... --  40.0\n",
    "- 6  Show banners with current offers and sales on ... --  40.0\n",
    "- 8  Launch a promotion that gives users discounts ... --  16.2\n",
    "- 3  Change the category structure. This will incre... --   9.0\n",
    "- 1  Launch your own delivery service. This will sh... --   4.0\n",
    "- 5  Add a customer review page. This will increase... --   4.0\n",
    "- 4  Change the background color on the main page. ... --   3.0"
   ]
  },
  {
   "cell_type": "markdown",
   "metadata": {},
   "source": [
    "------"
   ]
  },
  {
   "cell_type": "markdown",
   "metadata": {},
   "source": [
    "### Menunjukkan Perubahan Prioritas Hipotesis saat RICE Diterapkan untuk Menggantikan ICE. \n",
    "\n",
    "- Kita akan memberikan penjelasan terkait perubahan tersebut. Perlu diingat kembali bahwa:\n",
    "\n",
    "**RICE** terdiri atas empat komponen, yaitu:\n",
    "\n",
    "- **Reach** (Jangkauan) — berapa banyak pengguna yang akan terpengaruh oleh pembaruan yang ingin kamu perkenalkan\n",
    "- **Impact** (Dampak) — seberapa kuat pembaruan tersebut akan memengaruhi pengguna, pengalaman mereka, dan kepuasan mereka terhadap produk.\n",
    "- **Confidence** (Keyakinan) — seberapa yakin kamu bahwa produkmu akan memengaruhi pengguna dengan cara yang kamu perkenalkan\n",
    "- **Effort** (Usaha) — berapa biaya yang dibutuhkan untuk menguji hipotesis"
   ]
  },
  {
   "cell_type": "markdown",
   "metadata": {},
   "source": [
    "- <font color = green> Kesimpulan Sementara </font>\n",
    "\n",
    "<font color = blue>**Interpretasi Hasil ICE:** </font>\n",
    "\n",
    "**Top 3 Prioritas (Dengan Skor Tinggi):**\n",
    "\n",
    "- Launch a promotion that gives users discounts... (16.2): Hipotesis ini memiliki dampak dan keyakinan yang tinggi, dengan usaha yang relatif rendah.\n",
    "- Add two new channels for attracting traffic... (13.33): Memiliki dampak yang cukup tinggi dengan keyakinan yang baik, dan usaha yang relatif terjangkau.\n",
    "- Add a subscription form to all the main pages... (11.2): Memiliki dampak yang tinggi dengan keyakinan yang baik, dan usaha yang cukup terjangkau.\n",
    "\n",
    "\n",
    "**Bottom 3 Prioritas (Dengan Skor Rendah):**\n",
    "\n",
    "- Change the background color on the main page... (1.0): Memiliki skor rendah, mungkin karena dampak dan keyakinan yang rendah.\n",
    "- Add a customer review page... (1.33): Memiliki skor yang sedikit lebih tinggi tetapi masih relatif rendah.\n",
    "- Change the category structure... (1.13): Dengan skor yang rendah, mungkin karena dampak dan keyakinan yang rendah.\n",
    "\n",
    "\n",
    "<font color = blue >**Interpretasi Hasil RICE**: </font>\n",
    "\n",
    "**Top 3 Prioritas (Dengan Skor Tinggi):**\n",
    "\n",
    "- Add a subscription form to all the main pages... (112.0): Hipotesis ini memiliki dampak, keyakinan, dan jangkauan yang tinggi, tetapi usaha yang relatif rendah.\n",
    "- Add product recommendation blocks to the store... (56.0): Memiliki dampak dan jangkauan yang tinggi, dengan usaha yang relatif terjangkau.\n",
    "- Add two new channels for attracting traffic... (40.0): Memiliki dampak dan jangkauan yang baik, dengan usaha yang relatif terjangkau.\n",
    "\n",
    "**Bottom 3 Prioritas (Dengan Skor Rendah):**\n",
    "\n",
    "- Change the background color on the main page... (3.0): Memiliki skor rendah, mungkin karena dampak dan jangkauan yang rendah.\n",
    "- Launch your own delivery service... (4.0): Memiliki skor yang sedikit lebih tinggi tetapi masih relatif rendah.\n",
    "- Add a customer review page... (4.0): Memiliki skor yang sama dengan hipotesis sebelumnya, mungkin karena dampak dan jangkauan yang rendah."
   ]
  },
  {
   "cell_type": "markdown",
   "metadata": {},
   "source": [
    "- Mari kita lihat ulang perbandingan dengan menyalin ulang ke bagian sub bab ini."
   ]
  },
  {
   "cell_type": "code",
   "execution_count": 69,
   "metadata": {},
   "outputs": [
    {
     "data": {
      "image/png": "[encoded data removed]",
      "text/plain": [
       "<Figure size 432x720 with 1 Axes>"
      ]
     },
     "metadata": {
      "needs_background": "light"
     },
     "output_type": "display_data"
    }
   ],
   "source": [
    "# Visualisasi hasil perhitungan ICE dalam prioritas menurun\n",
    "hypothesis_df = hypothesis_df.sort_values(by='ICE', ascending=False)\n",
    "plt.figure(figsize=(6, 10))\n",
    "plt.barh(hypothesis_df['rice_hypothesis'], hypothesis_df['ICE'], color='skyblue')\n",
    "plt.xlabel('ICE Score')\n",
    "plt.ylabel('Hypotheses')\n",
    "plt.title('ICE Scores for Hypotheses')\n",
    "plt.show()"
   ]
  },
  {
   "cell_type": "markdown",
   "metadata": {},
   "source": [
    "----------"
   ]
  },
  {
   "cell_type": "code",
   "execution_count": 70,
   "metadata": {},
   "outputs": [
    {
     "data": {
      "image/png": "[encoded data removed]",
      "text/plain": [
       "<Figure size 432x720 with 1 Axes>"
      ]
     },
     "metadata": {
      "needs_background": "light"
     },
     "output_type": "display_data"
    }
   ],
   "source": [
    "# Visualisasi hasil perhitungan RICE dalam prioritas menurun\n",
    "hypothesis_df = hypothesis_df.sort_values(by='RICE', ascending=False)\n",
    "plt.figure(figsize=(6, 10))\n",
    "plt.barh(hypothesis_df['rice_hypothesis'], hypothesis_df['RICE'], color='skyblue')\n",
    "plt.xlabel('RICE Score')\n",
    "plt.ylabel('Hypotheses')\n",
    "plt.title('RICE Scores for Hypotheses')\n",
    "plt.show()"
   ]
  },
  {
   "cell_type": "markdown",
   "metadata": {},
   "source": [
    "<font color = green> Kesimpulan Sementara </font>\n",
    "\n",
    "Perbandingan:\n",
    "Terdapat perubahan prioritas yang cukup signifikan antara ICE dan RICE.\n",
    "\n",
    "- Hipotesis `Add a subscription form to all the main pages. This will help you compile a mailing list` melonjak ke posisi teratas dengan RICE karena memiliki jangkauan yang tinggi.\n",
    "- Hipotesis `Launch a promotion that gives users discounts on their birthdays` tetap tinggi, tetapi peringkatnya menurun karena RICE mempertimbangkan faktor jangkauan.\n",
    "- Prioritas hipotesis lainnya dapat juga mengalami perubahan, terutama jika jangkauan memainkan peran penting dalam konteks proyek atau pada strategi bisnis. "
   ]
  },
  {
   "cell_type": "markdown",
   "metadata": {},
   "source": [
    "--------"
   ]
  },
  {
   "cell_type": "markdown",
   "metadata": {},
   "source": [
    "## Analisis A/B Testing\n",
    "\n",
    "- Melakukan A/B testing dan mendapatkan hasil seperti yang dideskripsikan dalam `file orders_us.csv` dan `visitors_us.csv` atau \n",
    "\n",
    "`orders_df = pd.read_csv('/datasets/orders_us.csv')` dan ` visitors_df = pd.read_csv('/datasets/visitors_us.csv')`"
   ]
  },
  {
   "cell_type": "markdown",
   "metadata": {},
   "source": [
    "### Gambarkan Pendapatan Kumulatif Berdasarkan Kelompok\n",
    "- Membuat pendapatan kumulatif berdasarkan kelompok. Buat kesimpulan dan asumsinya."
   ]
  },
  {
   "cell_type": "code",
   "execution_count": 71,
   "metadata": {},
   "outputs": [],
   "source": [
    "# membuat variable ordersAggregated untuk menyimpan nilai kolom tertentu\n",
    "datesGroups = orders_df[['date', 'group']].drop_duplicates()\n",
    "ordersAggregated = datesGroups.apply(\n",
    "    lambda x: orders_df[\n",
    "        np.logical_and(\n",
    "            orders_df['date'] <= x['date'], orders_df['group'] == x['group']\n",
    "        )\n",
    "    ].agg(\n",
    "        {\n",
    "            'date': 'max',\n",
    "            'group': 'max',\n",
    "            'transaction_id': pd.Series.nunique,\n",
    "            'visitor_id': pd.Series.nunique,\n",
    "            'revenue': 'sum',\n",
    "        }\n",
    "    ),\n",
    "    axis=1,\n",
    ").sort_values(by=['date', 'group'])"
   ]
  },
  {
   "cell_type": "code",
   "execution_count": 72,
   "metadata": {},
   "outputs": [],
   "source": [
    "# membuat variable visitorsAggregated untuk menyimpan nilai kolom tertentu\n",
    "visitorsAggregated = datesGroups.apply(\n",
    "    lambda x: visitors_df[\n",
    "        np.logical_and(\n",
    "            visitors_df['date'] <= x['date'], visitors_df['group'] == x['group']\n",
    "        )\n",
    "    ].agg({'date': 'max', 'group': 'max', 'visits': 'sum'}),\n",
    "    axis=1,\n",
    ").sort_values(by=['date', 'group'])"
   ]
  },
  {
   "cell_type": "code",
   "execution_count": 73,
   "metadata": {},
   "outputs": [],
   "source": [
    "# menggabungkan ordersAggregated dan visitorsAggregated berdasarkan kolom 'date' dan 'group' menggunakan metode merge()\n",
    "cumulativeData = ordersAggregated.merge(\n",
    "    visitorsAggregated, left_on=['date', 'group'], right_on=['date', 'group']\n",
    ")\n",
    "cumulativeData.columns = [\n",
    "    'date',\n",
    "    'group',\n",
    "    'orders',\n",
    "    'buyers',\n",
    "    'revenue',\n",
    "    'visitors',\n",
    "]"
   ]
  },
  {
   "cell_type": "markdown",
   "metadata": {},
   "source": [
    "- Menentukan variabel cumulativeData dengan menggabungkan ordersAggregated dan visitorsAggregated berdasarkan kolom `date` dan `group` menggunakan metode merge()."
   ]
  },
  {
   "cell_type": "code",
   "execution_count": 74,
   "metadata": {},
   "outputs": [
    {
     "data": {
      "text/html": [
       "<div>\n",
       "<style scoped>\n",
       "    .dataframe tbody tr th:only-of-type {\n",
       "        vertical-align: middle;\n",
       "    }\n",
       "\n",
       "    .dataframe tbody tr th {\n",
       "        vertical-align: top;\n",
       "    }\n",
       "\n",
       "    .dataframe thead th {\n",
       "        text-align: right;\n",
       "    }\n",
       "</style>\n",
       "<table border=\"1\" class=\"dataframe\">\n",
       "  <thead>\n",
       "    <tr style=\"text-align: right;\">\n",
       "      <th></th>\n",
       "      <th>date</th>\n",
       "      <th>group</th>\n",
       "      <th>orders</th>\n",
       "      <th>buyers</th>\n",
       "      <th>revenue</th>\n",
       "      <th>visitors</th>\n",
       "    </tr>\n",
       "  </thead>\n",
       "  <tbody>\n",
       "    <tr>\n",
       "      <th>0</th>\n",
       "      <td>2019-08-01</td>\n",
       "      <td>A</td>\n",
       "      <td>24</td>\n",
       "      <td>20</td>\n",
       "      <td>2356.8</td>\n",
       "      <td>719</td>\n",
       "    </tr>\n",
       "    <tr>\n",
       "      <th>1</th>\n",
       "      <td>2019-08-01</td>\n",
       "      <td>B</td>\n",
       "      <td>21</td>\n",
       "      <td>20</td>\n",
       "      <td>1620.0</td>\n",
       "      <td>713</td>\n",
       "    </tr>\n",
       "    <tr>\n",
       "      <th>2</th>\n",
       "      <td>2019-08-02</td>\n",
       "      <td>A</td>\n",
       "      <td>44</td>\n",
       "      <td>38</td>\n",
       "      <td>3860.3</td>\n",
       "      <td>1338</td>\n",
       "    </tr>\n",
       "    <tr>\n",
       "      <th>3</th>\n",
       "      <td>2019-08-02</td>\n",
       "      <td>B</td>\n",
       "      <td>45</td>\n",
       "      <td>43</td>\n",
       "      <td>4243.8</td>\n",
       "      <td>1294</td>\n",
       "    </tr>\n",
       "    <tr>\n",
       "      <th>4</th>\n",
       "      <td>2019-08-03</td>\n",
       "      <td>A</td>\n",
       "      <td>68</td>\n",
       "      <td>62</td>\n",
       "      <td>5675.5</td>\n",
       "      <td>1845</td>\n",
       "    </tr>\n",
       "    <tr>\n",
       "      <th>...</th>\n",
       "      <td>...</td>\n",
       "      <td>...</td>\n",
       "      <td>...</td>\n",
       "      <td>...</td>\n",
       "      <td>...</td>\n",
       "      <td>...</td>\n",
       "    </tr>\n",
       "    <tr>\n",
       "      <th>57</th>\n",
       "      <td>2019-08-29</td>\n",
       "      <td>B</td>\n",
       "      <td>596</td>\n",
       "      <td>544</td>\n",
       "      <td>87343.0</td>\n",
       "      <td>17708</td>\n",
       "    </tr>\n",
       "    <tr>\n",
       "      <th>58</th>\n",
       "      <td>2019-08-30</td>\n",
       "      <td>A</td>\n",
       "      <td>545</td>\n",
       "      <td>493</td>\n",
       "      <td>63563.5</td>\n",
       "      <td>18037</td>\n",
       "    </tr>\n",
       "    <tr>\n",
       "      <th>59</th>\n",
       "      <td>2019-08-30</td>\n",
       "      <td>B</td>\n",
       "      <td>620</td>\n",
       "      <td>567</td>\n",
       "      <td>90736.3</td>\n",
       "      <td>18198</td>\n",
       "    </tr>\n",
       "    <tr>\n",
       "      <th>60</th>\n",
       "      <td>2019-08-31</td>\n",
       "      <td>A</td>\n",
       "      <td>557</td>\n",
       "      <td>503</td>\n",
       "      <td>64554.9</td>\n",
       "      <td>18736</td>\n",
       "    </tr>\n",
       "    <tr>\n",
       "      <th>61</th>\n",
       "      <td>2019-08-31</td>\n",
       "      <td>B</td>\n",
       "      <td>640</td>\n",
       "      <td>586</td>\n",
       "      <td>92840.6</td>\n",
       "      <td>18916</td>\n",
       "    </tr>\n",
       "  </tbody>\n",
       "</table>\n",
       "<p>62 rows × 6 columns</p>\n",
       "</div>"
      ],
      "text/plain": [
       "         date group  orders  buyers  revenue  visitors\n",
       "0  2019-08-01     A      24      20   2356.8       719\n",
       "1  2019-08-01     B      21      20   1620.0       713\n",
       "2  2019-08-02     A      44      38   3860.3      1338\n",
       "3  2019-08-02     B      45      43   4243.8      1294\n",
       "4  2019-08-03     A      68      62   5675.5      1845\n",
       "..        ...   ...     ...     ...      ...       ...\n",
       "57 2019-08-29     B     596     544  87343.0     17708\n",
       "58 2019-08-30     A     545     493  63563.5     18037\n",
       "59 2019-08-30     B     620     567  90736.3     18198\n",
       "60 2019-08-31     A     557     503  64554.9     18736\n",
       "61 2019-08-31     B     640     586  92840.6     18916\n",
       "\n",
       "[62 rows x 6 columns]"
      ]
     },
     "execution_count": 74,
     "metadata": {},
     "output_type": "execute_result"
    }
   ],
   "source": [
    "# Memeriksa cumulativeData yang telah dibuat\n",
    "cumulativeData"
   ]
  },
  {
   "cell_type": "code",
   "execution_count": 87,
   "metadata": {},
   "outputs": [
    {
     "data": {
      "text/plain": [
       "<matplotlib.legend.Legend at 0x7f2bb78f4280>"
      ]
     },
     "execution_count": 87,
     "metadata": {},
     "output_type": "execute_result"
    },
    {
     "data": {
      "image/png": "[encoded data removed]",
      "text/plain": [
       "<Figure size 864x432 with 1 Axes>"
      ]
     },
     "metadata": {
      "needs_background": "light"
     },
     "output_type": "display_data"
    }
   ],
   "source": [
    "# buat grafik pendapatan kumulatif harian untuk tiap-tiap kelompoknya.\n",
    "cumulativeRevenueA = cumulativeData[cumulativeData['group']=='A'][['date','revenue', 'orders']]\n",
    "cumulativeRevenueB = cumulativeData[cumulativeData['group']=='B'][['date','revenue', 'orders']]\n",
    "\n",
    "# Membuat grafik pendapatan kelompok A \n",
    "plt.figure(figsize=(12, 6))\n",
    "plt.plot(cumulativeRevenueA['date'], cumulativeRevenueA['revenue'], label='A')\n",
    "\n",
    "# Membuat grafik pendapatan kelompok B\n",
    "plt.plot(cumulativeRevenueB['date'], cumulativeRevenueB['revenue'], label='B')\n",
    "\n",
    "plt.legend() "
   ]
  },
  {
   "cell_type": "markdown",
   "metadata": {},
   "source": [
    "- Berikut visualisasi dari cumulativeRevenue A dan cumulativeRevenue B"
   ]
  },
  {
   "cell_type": "markdown",
   "metadata": {},
   "source": [
    "- <font color = green> Kesimpulan Sementara </font>\n",
    "\n",
    "Untuk segment A(cumulativeRevenueA) terlihat lebih rendah dari pada segment B(cumulativeRevenueB). Terlihat bahwa segment B lebih konsisten untuk naik dari pada segment A."
   ]
  },
  {
   "cell_type": "markdown",
   "metadata": {},
   "source": [
    "---"
   ]
  },
  {
   "cell_type": "markdown",
   "metadata": {},
   "source": [
    "### Gambarkan Ukuran Pesanan Rata-Rata Kumulatif Berdasarkan Kelompok\n",
    "- Mengukur pesanan rata-rata kumulatif berdasarkan kelompok. Buat kesimpulan dan asumsinya."
   ]
  },
  {
   "cell_type": "code",
   "execution_count": 86,
   "metadata": {},
   "outputs": [
    {
     "data": {
      "text/plain": [
       "<matplotlib.legend.Legend at 0x7f2bb72056d0>"
      ]
     },
     "execution_count": 86,
     "metadata": {},
     "output_type": "execute_result"
    },
    {
     "data": {
      "image/png": "[encoded data removed]",
      "text/plain": [
       "<Figure size 864x432 with 1 Axes>"
      ]
     },
     "metadata": {
      "needs_background": "light"
     },
     "output_type": "display_data"
    }
   ],
   "source": [
    "# Mengukur pesanan rata-rata kumulatif berdasarkan kelompok\n",
    "cumulativeRevenueA = cumulativeData[cumulativeData['group'] == 'A'][\n",
    "    ['date', 'revenue', 'orders']\n",
    "]\n",
    "cumulativeRevenueB = cumulativeData[cumulativeData['group'] == 'B'][\n",
    "    ['date', 'revenue', 'orders']\n",
    "]\n",
    "\n",
    "plt.figure(figsize=(12, 6))\n",
    "plt.plot(cumulativeRevenueA['date'], cumulativeRevenueA['revenue']/cumulativeRevenueA['orders'], label='A')\n",
    "plt.plot(cumulativeRevenueB['date'], cumulativeRevenueB['revenue']/cumulativeRevenueB['orders'], label='B')\n",
    "plt.legend() "
   ]
  },
  {
   "cell_type": "markdown",
   "metadata": {},
   "source": [
    "- <font color = green> Kesimpulan </font>\n",
    "\n",
    "Rata-rata ukuran pesanan kumulatif di pertengahan terlihat segment A jauh melancip lebih unggul. Namun setelah itu mengalami penurunan drastis. Kenaikan sangat drastis setelah dari pertengahan tersebut berada segment B yaitu mengalami kenaikan yang sangat signifikan dan mengungguli segment A di setiap tanggal."
   ]
  },
  {
   "cell_type": "markdown",
   "metadata": {},
   "source": [
    "---------"
   ]
  },
  {
   "cell_type": "markdown",
   "metadata": {},
   "source": [
    "### Gambarkan Perbedaan Relatif untuk Ukuran Pesanan Rata-Rata Kumulatif\n",
    "- Mengelompokan B yang dibandingkan dengan kelompok A. Buat kesimpulan dan asumsinya."
   ]
  },
  {
   "cell_type": "code",
   "execution_count": 85,
   "metadata": {},
   "outputs": [
    {
     "data": {
      "text/plain": [
       "<matplotlib.lines.Line2D at 0x7f2bb720b4c0>"
      ]
     },
     "execution_count": 85,
     "metadata": {},
     "output_type": "execute_result"
    },
    {
     "data": {
      "image/png": "[encoded data removed]",
      "text/plain": [
       "<Figure size 864x432 with 1 Axes>"
      ]
     },
     "metadata": {
      "needs_background": "light"
     },
     "output_type": "display_data"
    }
   ],
   "source": [
    "# mengumpulkan data menjadi satu DataFrame\n",
    "mergedCumulativeRevenue = cumulativeRevenueA.merge(cumulativeRevenueB, left_on='date', right_on='date', how='left', suffixes=['A', 'B'])\n",
    "\n",
    "# membuat grafik perbedaan relatif untuk jumlah pembelian rata-rata\n",
    "\n",
    "plt.figure(figsize=(12, 6))\n",
    "plt.plot(mergedCumulativeRevenue['date'], (mergedCumulativeRevenue['revenueB']/mergedCumulativeRevenue['ordersB'])/(mergedCumulativeRevenue['revenueA']/mergedCumulativeRevenue['ordersA'])-1)\n",
    "\n",
    "# menambahkan sumbu X\n",
    "plt.axhline(y=0, color='black', linestyle='--')"
   ]
  },
  {
   "cell_type": "markdown",
   "metadata": {},
   "source": [
    "- <font color = green> Kesimpulan Sementara </font>\n",
    "\n",
    "Di beberapa titik terdapat segment yang meningkat secara drastis dan juga menurun cukup drastis. Kita belum mengetahui apakah terdapat outlier atau tidak untuk hasil yang divisualisasikan."
   ]
  },
  {
   "cell_type": "markdown",
   "metadata": {},
   "source": [
    "---------"
   ]
  },
  {
   "cell_type": "markdown",
   "metadata": {},
   "source": [
    "### Gambarkan Konversi Kumulatif Berdasarkan Kelompok\n",
    "- Membuat konversi kumulatif berdasarkan kelompok. Buat kesimpulan dan asumsinya."
   ]
  },
  {
   "cell_type": "code",
   "execution_count": 84,
   "metadata": {},
   "outputs": [
    {
     "data": {
      "text/plain": [
       "(18109.0, 18139.0, 0.0, 0.05)"
      ]
     },
     "execution_count": 84,
     "metadata": {},
     "output_type": "execute_result"
    },
    {
     "data": {
      "image/png": "[encoded data removed]",
      "text/plain": [
       "<Figure size 864x432 with 1 Axes>"
      ]
     },
     "metadata": {
      "needs_background": "light"
     },
     "output_type": "display_data"
    }
   ],
   "source": [
    "# menghitung konversi kumulatif\n",
    "cumulativeData['conversion'] = cumulativeData['orders']/cumulativeData['visitors']\n",
    "\n",
    "# memilih data di kelompok A\n",
    "cumulativeDataA = cumulativeData[cumulativeData['group']=='A']\n",
    "\n",
    "# memilih data di kelompok B\n",
    "cumulativeDataB = cumulativeData[cumulativeData['group']=='B']\n",
    "\n",
    "\n",
    "# membuat grafik\n",
    "plt.figure(figsize=(12, 6))\n",
    "plt.plot(cumulativeDataA['date'], cumulativeDataA['conversion'], label='A')\n",
    "plt.plot(cumulativeDataB['date'], cumulativeDataB['conversion'], label='B')\n",
    "plt.legend()\n",
    "\n",
    "# mengatur skala sumbu\n",
    "plt.axis([pd.to_datetime('2019-08-01'), pd.to_datetime('2019-08-31'), 0, 0.05])"
   ]
  },
  {
   "cell_type": "markdown",
   "metadata": {},
   "source": [
    "- <font color = green> Kesimpulan Sementara </font>\n",
    "\n",
    "Dari segment yang kita set harian yaitu `2019-08-01` hingga `2019-08-31`, kita bisa lihat bahwa diawal hari, segment B lebih rendah dari pada segment A. Namun peningkatan yang cukup sederhana dari segment B membuat segment tersebut cukup konsisten dan lebih tinggi dari pada segment A."
   ]
  },
  {
   "cell_type": "markdown",
   "metadata": {},
   "source": [
    "-------"
   ]
  },
  {
   "cell_type": "markdown",
   "metadata": {},
   "source": [
    "### Gambarkan Perbedaan Relatif untuk Tingkat Konversi kumulatif kelompok B yang Dibandingkan dengan Kelompok A \n",
    "- Membuat perbedaan relatif untuk tingkat konversi kumulatif kelompok B yang dibandingkan dengan kelompok A. Buat kesimpulan dan asumsinya."
   ]
  },
  {
   "cell_type": "code",
   "execution_count": 83,
   "metadata": {},
   "outputs": [
    {
     "data": {
      "text/plain": [
       "(18109.0, 18139.0, -0.5, 0.5)"
      ]
     },
     "execution_count": 83,
     "metadata": {},
     "output_type": "execute_result"
    },
    {
     "data": {
      "image/png": "[encoded data removed]",
      "text/plain": [
       "<Figure size 864x432 with 1 Axes>"
      ]
     },
     "metadata": {
      "needs_background": "light"
     },
     "output_type": "display_data"
    }
   ],
   "source": [
    "# Gambarkan Perbedaan Relatif untuk Tingkat Konversi kumulatif kelompok B yang Dibandingkan dengan Kelompok A\n",
    "cumulativeData['conversion'] = (\n",
    "    cumulativeData['orders'] / cumulativeData['visitors']\n",
    ")\n",
    "\n",
    "cumulativeDataA = cumulativeData[cumulativeData['group'] == 'A']\n",
    "cumulativeDataB = cumulativeData[cumulativeData['group'] == 'B']\n",
    "\n",
    "\n",
    "mergedCumulativeConversions = cumulativeDataA[['date', 'conversion']].merge(\n",
    "    cumulativeDataB[['date', 'conversion']],\n",
    "    left_on='date',\n",
    "    right_on='date',\n",
    "    how='left',\n",
    "    suffixes=['A', 'B'],\n",
    ")\n",
    "\n",
    "\n",
    "plt.figure(figsize=(12, 6))\n",
    "plt.plot(\n",
    "    mergedCumulativeConversions['date'],\n",
    "    mergedCumulativeConversions['conversionB']\n",
    "    / mergedCumulativeConversions['conversionA']\n",
    "    - 1,\n",
    ")\n",
    "plt.axhline(y=0, color='black', linestyle='--')\n",
    "plt.axhline(y=0.2, color='grey', linestyle='--')\n",
    "plt.axis([pd.to_datetime('2019-08-01'), pd.to_datetime('2019-08-31'), -0.5, 0.5])"
   ]
  },
  {
   "cell_type": "markdown",
   "metadata": {},
   "source": [
    "- <font color = green> Kesimpulan Sementara </font>\n",
    "\n",
    "Secara konversi untuk di awal, mengalami kenaikan sedikit tinggi. Di pertengahan, segment konversi tersebut tidak lah tinggi dan tidak lah rendah.\n"
   ]
  },
  {
   "cell_type": "markdown",
   "metadata": {},
   "source": [
    "---------"
   ]
  },
  {
   "cell_type": "markdown",
   "metadata": {},
   "source": [
    "### Hitung Tingkat Konversi Setiap Kelompok Sebagai Rasio Pesanan Terhadap Jumlah Kunjungan Setiap Hari\n",
    "\n",
    "- Buat grafik tingkat konversi harian dari kedua kelompok dan jelaskan perbedaannya. Buat kesimpulan dan asumsinya."
   ]
  },
  {
   "cell_type": "code",
   "execution_count": 80,
   "metadata": {},
   "outputs": [
    {
     "data": {
      "image/png": "[encoded data removed]",
      "text/plain": [
       "<Figure size 864x432 with 1 Axes>"
      ]
     },
     "metadata": {
      "needs_background": "light"
     },
     "output_type": "display_data"
    }
   ],
   "source": [
    "# Hitung rasio konversi harian\n",
    "cumulativeData['daily_conversion'] = cumulativeData['orders'] / cumulativeData['visitors']\n",
    "\n",
    "# Pisahkan data berdasarkan kelompok A dan B\n",
    "dailyConversionA = cumulativeData[cumulativeData['group'] == 'A'][['date', 'daily_conversion']]\n",
    "dailyConversionB = cumulativeData[cumulativeData['group'] == 'B'][['date', 'daily_conversion']]\n",
    "\n",
    "# Buat grafik tingkat konversi harian\n",
    "plt.figure(figsize=(12, 6))\n",
    "plt.plot(dailyConversionA['date'], dailyConversionA['daily_conversion'], label='Group A')\n",
    "plt.plot(dailyConversionB['date'], dailyConversionB['daily_conversion'], label='Group B')\n",
    "plt.title('Daily Conversion Rate by Group')\n",
    "plt.xlabel('Date')\n",
    "plt.ylabel('Conversion Rate')\n",
    "plt.legend()\n",
    "plt.show()\n"
   ]
  },
  {
   "cell_type": "markdown",
   "metadata": {},
   "source": [
    "- <font color = green > Kesimpulan Sementara </font>\n",
    "\n",
    "Bisa kita lihat bahwa rasio kunjungan setiap hari pada segment A memiliki awal yang cukup tinggi namun mengalami penurunan secara drastis setiap harinya. Pada segment B mengalami kenaikan dan cukup fluktatif untuk beberapa hari di awal. Kenaikan ini cukup signifikan dan semkakin ke depan segment A tidak bisa sama sekali tidak bisa menggunguli segment B."
   ]
  },
  {
   "cell_type": "markdown",
   "metadata": {},
   "source": [
    "----"
   ]
  },
  {
   "cell_type": "markdown",
   "metadata": {},
   "source": [
    "### Buat Diagram Tebar (scatter chart) Untuk Jumlah Pesanan Setiap Pengguna\n",
    "- Membuat diagram scatter chart dan membuat asumsi dan kesimpulan"
   ]
  },
  {
   "cell_type": "code",
   "execution_count": 89,
   "metadata": {},
   "outputs": [
    {
     "name": "stdout",
     "output_type": "stream",
     "text": [
      "      visitor_id  orders\n",
      "1023  4256040402      11\n",
      "591   2458001652      11\n",
      "569   2378935119       9\n",
      "487   2038680547       8\n",
      "44     199603092       5\n",
      "744   3062433592       5\n",
      "55     237748145       5\n",
      "917   3803269165       5\n",
      "299   1230306981       5\n",
      "897   3717692402       5\n"
     ]
    },
    {
     "data": {
      "text/plain": [
       "<matplotlib.collections.PathCollection at 0x7f2bb720d820>"
      ]
     },
     "execution_count": 89,
     "metadata": {},
     "output_type": "execute_result"
    },
    {
     "data": {
      "image/png": "[encoded data removed]",
      "text/plain": [
       "<Figure size 864x432 with 1 Axes>"
      ]
     },
     "metadata": {
      "needs_background": "light"
     },
     "output_type": "display_data"
    }
   ],
   "source": [
    "# Membuat diagram scatter dan jumlah order untuk melihat distribusi\n",
    "ordersByUsers = (\n",
    "    orders_df.drop(['group', 'revenue', 'date'], axis=1)\n",
    "    .groupby('visitor_id', as_index=False)\n",
    "    .agg({'transaction_id': pd.Series.nunique})\n",
    ")\n",
    "ordersByUsers.columns = ['visitor_id', 'orders']\n",
    "\n",
    "print(ordersByUsers.sort_values(by='orders', ascending=False).head(10))\n",
    "\n",
    "# rentang angka dari 0 hingga jumlah observasi di ordersByUsers\n",
    "x_values = pd.Series(range(0,len(ordersByUsers)))\n",
    "\n",
    "plt.figure(figsize=(12, 6))\n",
    "plt.scatter(x_values, ordersByUsers['orders'])"
   ]
  },
  {
   "cell_type": "markdown",
   "metadata": {},
   "source": [
    "- <font color = green > Kesimpulan Sementara </font>\n",
    "\n",
    "Dari scatter plot yang ditampiikan, terdapat banyak nilai outliers serta beberapa distribusi yang tidak normal. Hal ini bisa saja disebabkan oleh nilai yang anomali atau kesalahan pada input data."
   ]
  },
  {
   "cell_type": "markdown",
   "metadata": {},
   "source": [
    "--------"
   ]
  },
  {
   "cell_type": "markdown",
   "metadata": {},
   "source": [
    "### Hitung Persentil ke-95 dan ke-99 untuk Jumlah Pesanan Setiap Pengguna \n",
    "- Di sini kita tentukan titik ketika suatu titik data berubah menjadi anomali."
   ]
  },
  {
   "cell_type": "code",
   "execution_count": 91,
   "metadata": {},
   "outputs": [
    {
     "name": "stdout",
     "output_type": "stream",
     "text": [
      "      visitor_id  orders\n",
      "1023  4256040402      11\n",
      "591   2458001652      11\n",
      "569   2378935119       9\n",
      "487   2038680547       8\n",
      "44     199603092       5\n",
      "744   3062433592       5\n",
      "55     237748145       5\n",
      "917   3803269165       5\n",
      "299   1230306981       5\n",
      "897   3717692402       5\n",
      "[2. 4.]\n"
     ]
    }
   ],
   "source": [
    "# Melihat kembali distribusi yang ditampilkan sebagai pembanding\n",
    "print(ordersByUsers.sort_values(by='orders', ascending=False).head(10))\n",
    "# Metode np.percentile('column', [percentile1, persentil2, persentil3]) menghitung persentil.\n",
    "print(np.percentile(ordersByUsers['orders'], [95, 99]))"
   ]
  },
  {
   "cell_type": "markdown",
   "metadata": {},
   "source": [
    "- <font color = green > Kesimpulan Sementara </font>\n",
    "1. **Persentil ke-95**: Nilai 2 mungkin menunjukkan bahwa 95% dari jumlah pesanan per pengguna berada di level 2 atau kurang. Dengan kata lain, sebagian besar pengguna memiliki jumlah pesanan yang relatif rendah.\n",
    "\n",
    "2. **Persentil ke-99**: Nilai 4 mungkin menunjukkan bahwa 99% dari jumlah pesanan per pengguna berada di level 4 atau kurang. Ini menunjukkan bahwa hanya sebagian kecil pengguna (1% teratas) yang memiliki jumlah pesanan yang lebih tinggi, dan nilai 4 dapat dianggap sebagai batas atas yang mewakili titik anomali atau nilai yang signifikan."
   ]
  },
  {
   "cell_type": "markdown",
   "metadata": {},
   "source": [
    "-------"
   ]
  },
  {
   "cell_type": "markdown",
   "metadata": {},
   "source": [
    "### Buat Diagram Tebar (scatter chart) untuk Harga Pesanan\n",
    "- Membuat (scatter chart) untuk harga pesanan. Buat kesimpulan dan asumsinya."
   ]
  },
  {
   "cell_type": "code",
   "execution_count": 97,
   "metadata": {},
   "outputs": [
    {
     "name": "stdout",
     "output_type": "stream",
     "text": [
      "      transaction_id  visitor_id       date  revenue group\n",
      "425        590470918  1920142716 2019-08-19  19920.4     B\n",
      "1196      3936777065  2108080724 2019-08-15   3120.1     B\n",
      "858        192721366  1316129916 2019-08-27   1450.2     A\n",
      "1136       666610489  1307669133 2019-08-13   1425.8     A\n",
      "744       3668308183   888512513 2019-08-27   1335.6     B\n",
      "662       1811671147  4266935830 2019-08-29   1220.2     A\n",
      "682       1216533772  4266935830 2019-08-29   1220.2     B\n",
      "743       3603576309  4133034833 2019-08-09   1050.0     A\n",
      "1103      1348774318  1164614297 2019-08-12   1025.8     A\n",
      "1099       316924019   148427295 2019-08-12   1015.9     A\n"
     ]
    },
    {
     "data": {
      "text/plain": [
       "<matplotlib.collections.PathCollection at 0x7f2bb71c0b80>"
      ]
     },
     "execution_count": 97,
     "metadata": {},
     "output_type": "execute_result"
    },
    {
     "data": {
      "image/png": "[encoded data removed]",
      "text/plain": [
       "<Figure size 864x432 with 1 Axes>"
      ]
     },
     "metadata": {
      "needs_background": "light"
     },
     "output_type": "display_data"
    }
   ],
   "source": [
    "# Membuat diagram scatter dan jumlah order untuk melihat distribusi\n",
    "print(orders_df.sort_values(by='revenue',ascending=False).head(10))\n",
    "x_values = pd.Series(range(0,len(orders_df['revenue'])))\n",
    "\n",
    "plt.figure(figsize=(12, 6))\n",
    "plt.scatter(x_values, orders_df['revenue'])"
   ]
  },
  {
   "cell_type": "markdown",
   "metadata": {},
   "source": [
    "- <font color = green> Kesimpulan Sementara </font>\n",
    "\n",
    "Jumlah harga untuk scatter chart, terdapat hanya 1 yang berada di atas 2.500. Banyak yang membeli dengan harga di bawah 2.500. Serta terdapat sebuah outlier di angka 20.000"
   ]
  },
  {
   "cell_type": "markdown",
   "metadata": {},
   "source": [
    "--------"
   ]
  },
  {
   "cell_type": "markdown",
   "metadata": {},
   "source": [
    "### Hitung Persentil ke-95 dan ke-99 untuk Harga Pesanan \n",
    "- Tentukan titik ketika suatu titik data berubah menjadi anomali"
   ]
  },
  {
   "cell_type": "code",
   "execution_count": 98,
   "metadata": {},
   "outputs": [
    {
     "name": "stdout",
     "output_type": "stream",
     "text": [
      "   transaction_id  visitor_id       date  revenue group\n",
      "0      3667963787  3312258926 2019-08-15     30.4     B\n",
      "1      2804400009  3642806036 2019-08-15     15.2     B\n",
      "2      2961555356  4069496402 2019-08-15     10.2     A\n",
      "3      3797467345  1196621759 2019-08-15    155.1     B\n",
      "4      2282983706  2322279887 2019-08-15     40.5     B\n",
      "5       182168103   935554773 2019-08-15     35.0     B\n",
      "6       398296753  2900797465 2019-08-15     30.6     B\n",
      "7      2626614568    78758296 2019-08-15     20.1     A\n",
      "8      1576988021   295230930 2019-08-15    215.9     A\n",
      "9      1506739906  1882260405 2019-08-15     30.5     B\n",
      "[435.54  900.904]\n"
     ]
    }
   ],
   "source": [
    "# Hitung persentil sampel ke-95, dan ke-99 untuk pendapatan pesanan per pengguna \n",
    "print(orders_df.head(10))\n",
    "\n",
    "print(np.percentile(orders_df['revenue'], [95,99]))"
   ]
  },
  {
   "cell_type": "code",
   "execution_count": 99,
   "metadata": {},
   "outputs": [
    {
     "data": {
      "text/html": [
       "<div>\n",
       "<style scoped>\n",
       "    .dataframe tbody tr th:only-of-type {\n",
       "        vertical-align: middle;\n",
       "    }\n",
       "\n",
       "    .dataframe tbody tr th {\n",
       "        vertical-align: top;\n",
       "    }\n",
       "\n",
       "    .dataframe thead th {\n",
       "        text-align: right;\n",
       "    }\n",
       "</style>\n",
       "<table border=\"1\" class=\"dataframe\">\n",
       "  <thead>\n",
       "    <tr style=\"text-align: right;\">\n",
       "      <th></th>\n",
       "      <th>transaction_id</th>\n",
       "      <th>visitor_id</th>\n",
       "      <th>date</th>\n",
       "      <th>revenue</th>\n",
       "      <th>group</th>\n",
       "    </tr>\n",
       "  </thead>\n",
       "  <tbody>\n",
       "    <tr>\n",
       "      <th>425</th>\n",
       "      <td>590470918</td>\n",
       "      <td>1920142716</td>\n",
       "      <td>2019-08-19</td>\n",
       "      <td>19920.4</td>\n",
       "      <td>B</td>\n",
       "    </tr>\n",
       "    <tr>\n",
       "      <th>662</th>\n",
       "      <td>1811671147</td>\n",
       "      <td>4266935830</td>\n",
       "      <td>2019-08-29</td>\n",
       "      <td>1220.2</td>\n",
       "      <td>A</td>\n",
       "    </tr>\n",
       "    <tr>\n",
       "      <th>682</th>\n",
       "      <td>1216533772</td>\n",
       "      <td>4266935830</td>\n",
       "      <td>2019-08-29</td>\n",
       "      <td>1220.2</td>\n",
       "      <td>B</td>\n",
       "    </tr>\n",
       "    <tr>\n",
       "      <th>743</th>\n",
       "      <td>3603576309</td>\n",
       "      <td>4133034833</td>\n",
       "      <td>2019-08-09</td>\n",
       "      <td>1050.0</td>\n",
       "      <td>A</td>\n",
       "    </tr>\n",
       "    <tr>\n",
       "      <th>744</th>\n",
       "      <td>3668308183</td>\n",
       "      <td>888512513</td>\n",
       "      <td>2019-08-27</td>\n",
       "      <td>1335.6</td>\n",
       "      <td>B</td>\n",
       "    </tr>\n",
       "    <tr>\n",
       "      <th>858</th>\n",
       "      <td>192721366</td>\n",
       "      <td>1316129916</td>\n",
       "      <td>2019-08-27</td>\n",
       "      <td>1450.2</td>\n",
       "      <td>A</td>\n",
       "    </tr>\n",
       "    <tr>\n",
       "      <th>940</th>\n",
       "      <td>2420050534</td>\n",
       "      <td>4003628586</td>\n",
       "      <td>2019-08-08</td>\n",
       "      <td>905.8</td>\n",
       "      <td>B</td>\n",
       "    </tr>\n",
       "    <tr>\n",
       "      <th>949</th>\n",
       "      <td>1347999392</td>\n",
       "      <td>887908475</td>\n",
       "      <td>2019-08-21</td>\n",
       "      <td>930.0</td>\n",
       "      <td>A</td>\n",
       "    </tr>\n",
       "    <tr>\n",
       "      <th>1099</th>\n",
       "      <td>316924019</td>\n",
       "      <td>148427295</td>\n",
       "      <td>2019-08-12</td>\n",
       "      <td>1015.9</td>\n",
       "      <td>A</td>\n",
       "    </tr>\n",
       "    <tr>\n",
       "      <th>1103</th>\n",
       "      <td>1348774318</td>\n",
       "      <td>1164614297</td>\n",
       "      <td>2019-08-12</td>\n",
       "      <td>1025.8</td>\n",
       "      <td>A</td>\n",
       "    </tr>\n",
       "    <tr>\n",
       "      <th>1136</th>\n",
       "      <td>666610489</td>\n",
       "      <td>1307669133</td>\n",
       "      <td>2019-08-13</td>\n",
       "      <td>1425.8</td>\n",
       "      <td>A</td>\n",
       "    </tr>\n",
       "    <tr>\n",
       "      <th>1196</th>\n",
       "      <td>3936777065</td>\n",
       "      <td>2108080724</td>\n",
       "      <td>2019-08-15</td>\n",
       "      <td>3120.1</td>\n",
       "      <td>B</td>\n",
       "    </tr>\n",
       "  </tbody>\n",
       "</table>\n",
       "</div>"
      ],
      "text/plain": [
       "      transaction_id  visitor_id       date  revenue group\n",
       "425        590470918  1920142716 2019-08-19  19920.4     B\n",
       "662       1811671147  4266935830 2019-08-29   1220.2     A\n",
       "682       1216533772  4266935830 2019-08-29   1220.2     B\n",
       "743       3603576309  4133034833 2019-08-09   1050.0     A\n",
       "744       3668308183   888512513 2019-08-27   1335.6     B\n",
       "858        192721366  1316129916 2019-08-27   1450.2     A\n",
       "940       2420050534  4003628586 2019-08-08    905.8     B\n",
       "949       1347999392   887908475 2019-08-21    930.0     A\n",
       "1099       316924019   148427295 2019-08-12   1015.9     A\n",
       "1103      1348774318  1164614297 2019-08-12   1025.8     A\n",
       "1136       666610489  1307669133 2019-08-13   1425.8     A\n",
       "1196      3936777065  2108080724 2019-08-15   3120.1     B"
      ]
     },
     "execution_count": 99,
     "metadata": {},
     "output_type": "execute_result"
    }
   ],
   "source": [
    "# Ambang batas persentil ke-99\n",
    "threshold = 900.904\n",
    "\n",
    "# Identifikasi anomali\n",
    "anomaly_data = orders_df[orders_df['revenue'] > threshold]\n",
    "\n",
    "# Tampilkan data anomali\n",
    "anomaly_data"
   ]
  },
  {
   "cell_type": "markdown",
   "metadata": {},
   "source": [
    "<font color = green> Kesimpulan Sementara </font>\n",
    "\n",
    "1. **Persentil ke-95**: Nilai 435.54 menunjukkan bahwa 95% dari data pendapatan pesanan per pengguna berada di bawah atau sama dengan 435.54. Dengan kata lain, sebagian besar transaksi memiliki pendapatan kurang dari 435.54.\n",
    "\n",
    "2. **Persentil ke-99**: Nilai 900.904 menunjukkan bahwa 99% dari data pendapatan pesanan per pengguna berada di bawah atau sama dengan 900.904. Ini menunjukkan bahwa sebagian besar transaksi, 99% dari total, memiliki pendapatan kurang dari 900.904.\n",
    "\n",
    "3. Bisa dipastikan dengan batas ke-99. terdapat beberapa nilai anomali."
   ]
  },
  {
   "cell_type": "markdown",
   "metadata": {},
   "source": [
    "----------------"
   ]
  },
  {
   "cell_type": "markdown",
   "metadata": {},
   "source": [
    "### Temukan Signifikansi Statistik Perbedaan Konversi antar Kelompok Menggunakan Data Mentah\n",
    "- Menentukan signifikansi statistik perbedaan konversi antar kelompok menggunakan data mentah. Buat kesimpulan dan asumsinya."
   ]
  },
  {
   "cell_type": "code",
   "execution_count": 100,
   "metadata": {},
   "outputs": [],
   "source": [
    "# Menentukan signifikansi statistik perbedaan konversi antar kelompok\n",
    "ordersByUsersA = orders_df[orders_df['group']=='A'].groupby('visitor_id', as_index=False).agg({'transaction_id' : pd.Series.nunique})\n",
    "ordersByUsersA.columns = ['visitor_id', 'orders_A']\n",
    "\n",
    "ordersByUsersB = orders_df[orders_df['group']=='B'].groupby('visitor_id', as_index=False).agg({'transaction_id' : pd.Series.nunique})\n",
    "ordersByUsersB.columns = ['visitor_id', 'orders_B']"
   ]
  },
  {
   "cell_type": "code",
   "execution_count": 102,
   "metadata": {},
   "outputs": [],
   "source": [
    "# Membuat masing-masing sample untuk melihat perbandingan signifikansi\n",
    "sampleA = pd.concat(\n",
    "    [\n",
    "        ordersByUsersA['orders_A'],\n",
    "        pd.Series(\n",
    "            0,\n",
    "            index=np.arange(\n",
    "                visitors_df[visitors_df['group'] == 'A']['visits'].sum()\n",
    "                - len(ordersByUsersA['orders_A'])\n",
    "            ),\n",
    "            name='orders_A',\n",
    "        ),\n",
    "    ],\n",
    "    axis=0,\n",
    ")\n",
    "sampleB = pd.concat(\n",
    "    [\n",
    "        ordersByUsersB['orders_B'],\n",
    "        pd.Series(\n",
    "            0,\n",
    "            index=np.arange(\n",
    "                visitors_df[visitors_df['group'] == 'B']['visits'].sum()\n",
    "                - len(ordersByUsersB['orders_B'])\n",
    "            ),\n",
    "            name='orders_B',\n",
    "        ),\n",
    "    ],\n",
    "    axis=0,\n",
    ")"
   ]
  },
  {
   "cell_type": "code",
   "execution_count": 105,
   "metadata": {},
   "outputs": [
    {
     "name": "stdout",
     "output_type": "stream",
     "text": [
      "0.01679\n",
      "0.138\n"
     ]
    }
   ],
   "source": [
    "# Hitung signifikansi statistik dari perbedaan konversi dengan menerapkan pengujian Mann-Whitney. \n",
    "print('{0:.5f}'.format(st.mannwhitneyu(sampleA, sampleB)[1]))\n",
    "print('{0:.3f}'.format(sampleB.mean() / sampleA.mean() - 1))"
   ]
  },
  {
   "cell_type": "markdown",
   "metadata": {},
   "source": [
    "- <font color = green> Kesimpulan Sementara </font>\n",
    "\n",
    "Nilai p kurang dari tingkat signifikansi umum 0.05, yang menunjukkan bahwa terdapat perbedaan signifikan antara sampleA dan sampleB. Dalam konteks pengujian Mann-Whitney, ini dapat diartikan sebagai adanya perbedaan yang signifikan dalam distribusi antara dua kelompok."
   ]
  },
  {
   "cell_type": "markdown",
   "metadata": {},
   "source": [
    "------"
   ]
  },
  {
   "cell_type": "markdown",
   "metadata": {},
   "source": [
    "### Temukan Signifikansi Statistik Perbedaan Ukuran Pesanan Rata-Rata antar Kelompok Menggunakan Data Mentah\n",
    "- Mencari signifikansi statistik perbedaan ukuran pesanan rata-rata antar kelompok menggunakan data mentah. Buat kesimpulan dan asumsinya."
   ]
  },
  {
   "cell_type": "code",
   "execution_count": 107,
   "metadata": {},
   "outputs": [
    {
     "name": "stdout",
     "output_type": "stream",
     "text": [
      "0.692\n",
      "0.252\n"
     ]
    }
   ],
   "source": [
    "# Mencari statistik perbedaan ukuran pesanan rata-rata antar kelompok menggunakan data mentah\n",
    "print('{0:.3f}'.format(st.mannwhitneyu(orders_df[orders_df['group']=='A']['revenue'], orders_df[orders_df['group']=='B']['revenue'])[1]))\n",
    "print('{0:.3f}'.format(orders_df[orders_df['group']=='B']['revenue'].mean()/orders_df[orders_df['group']=='A']['revenue'].mean()-1))"
   ]
  },
  {
   "cell_type": "markdown",
   "metadata": {},
   "source": [
    "- <font color = green > Kesimpulan Sementara </font>\n",
    "\n",
    "Nilai P lebih besar dari 0.05 pada umumnya. Ini menunjukan bahwa tidak ada perbedaan secara signifikan secara statistik untuk ukuran pesanan rata-rata antar kelompok dengan menggunakan data mentah."
   ]
  },
  {
   "cell_type": "markdown",
   "metadata": {},
   "source": [
    "----------"
   ]
  },
  {
   "cell_type": "markdown",
   "metadata": {},
   "source": [
    "### Temukan Signifikansi Statistik Perbedaan Konversi antar Kelompok Menggunakan Data yang Telah Difilter\n",
    "- Menemukan signifikansi statistik perbedaan konversi antar kelompok menggunakan data yang telah difilter. Buat kesimpulan dan asumsinya."
   ]
  },
  {
   "cell_type": "code",
   "execution_count": 109,
   "metadata": {},
   "outputs": [],
   "source": [
    "usersWithManyOrders = pd.concat(\n",
    "    [\n",
    "        ordersByUsersA[ordersByUsersA['orders_A'] > 2]['visitor_id'],\n",
    "        ordersByUsersB[ordersByUsersB['orders_B'] > 2]['visitor_id'],\n",
    "    ],\n",
    "    axis=0,\n",
    ")\n",
    "\n",
    "usersWithExpensiveOrders = orders_df[orders_df['revenue'] > 10000]['visitor_id']\n",
    "abnormalUsers = (\n",
    "    pd.concat([usersWithManyOrders, usersWithExpensiveOrders], axis=0)\n",
    "    .drop_duplicates()\n",
    "    .sort_values()\n",
    ")\n"
   ]
  },
  {
   "cell_type": "code",
   "execution_count": 112,
   "metadata": {},
   "outputs": [],
   "source": [
    "# Membuat data mentah yang akan difilter\n",
    "sampleAFiltered = pd.concat([ordersByUsersA[np.logical_not(ordersByUsersA['visitor_id'].isin(abnormalUsers))]['orders_A'],pd.Series(0, index=np.arange(visitors_df[visitors_df['group']=='A']['visits'].sum() - len(ordersByUsersA['orders_A'])),name='orders_A')],axis=0)\n",
    "\n",
    "sampleBFiltered = pd.concat([ordersByUsersB[np.logical_not(ordersByUsersB['visitor_id'].isin(abnormalUsers))]['orders_B'],pd.Series(0, index=np.arange(visitors_df[visitors_df['group']=='B']['visits'].sum() - len(ordersByUsersB['orders_B'])),name='orders_B')],axis=0)\n",
    "\n"
   ]
  },
  {
   "cell_type": "code",
   "execution_count": 114,
   "metadata": {},
   "outputs": [
    {
     "name": "stdout",
     "output_type": "stream",
     "text": [
      "0.01254\n",
      "0.168\n"
     ]
    }
   ],
   "source": [
    "print(\"{0:.5f}\".format(st.mannwhitneyu(sampleAFiltered, sampleBFiltered)[1]))\n",
    "print(\"{0:.3f}\".format(sampleBFiltered.mean()/sampleAFiltered.mean()-1))"
   ]
  },
  {
   "cell_type": "markdown",
   "metadata": {},
   "source": [
    "- <font color = green > Kesimpulan Sementara </font>\n",
    "\n",
    "Nilai p kurang dari tingkat signifikansi umum 0.05, yang menunjukkan bahwa terdapat perbedaan yang signifikan dalam distribusi antara kelompok A dan B setelah menghapus pengguna yang dianggap abnormal."
   ]
  },
  {
   "cell_type": "markdown",
   "metadata": {},
   "source": [
    "--------"
   ]
  },
  {
   "cell_type": "markdown",
   "metadata": {},
   "source": [
    "### Temukan Signifikansi Statistik Serbedaan Ukuran Pesanan Rata-Rata antar Kelompok Menggunakan Data yang Telah Difilter.\n",
    "- Menemukan signifikansi statistik perbedaan ukuran pesanan rata-rata antar kelompok menggunakan data yang telah difilter. Buat kesimpulan dan asumsinya."
   ]
  },
  {
   "cell_type": "code",
   "execution_count": 120,
   "metadata": {},
   "outputs": [
    {
     "name": "stdout",
     "output_type": "stream",
     "text": [
      "18    199603092\n",
      "23    237748145\n",
      "37    249864742\n",
      "68    457167155\n",
      "68    611059232\n",
      "Name: visitor_id, dtype: int64\n",
      "0.670\n",
      "-0.055\n"
     ]
    }
   ],
   "source": [
    "# Menemukan signifikansi statistik perbedaan ukuran pesanan rata-rata antar kelompok menggunakan data yang telah difilter\n",
    "print(abnormalUsers.head(5))\n",
    "\n",
    "print('{0:.3f}'.format(st.mannwhitneyu(\n",
    "    orders_df[np.logical_and(\n",
    "        orders_df['group']=='A',\n",
    "        np.logical_not(orders_df['visitor_id'].isin(abnormalUsers)))]['revenue'],\n",
    "    orders_df[np.logical_and(\n",
    "        orders_df['group']=='B',\n",
    "        np.logical_not(orders_df['visitor_id'].isin(abnormalUsers)))]['revenue'])[1]))\n",
    "\n",
    "print('{0:.3f}'.format(\n",
    "    orders_df[np.logical_and(orders_df['group']=='B',np.logical_not(orders_df['visitor_id'].isin(abnormalUsers)))]['revenue'].mean()/\n",
    "    orders_df[np.logical_and(\n",
    "        orders_df['group']=='A',\n",
    "        np.logical_not(orders_df['visitor_id'].isin(abnormalUsers)))]['revenue'].mean() - 1))"
   ]
  },
  {
   "cell_type": "markdown",
   "metadata": {},
   "source": [
    "- <font color = green> Kesimpulan Sementara </font>\n",
    "\n",
    "Nilai p `0.67` lebih besar dari tingkat signifikansi umum `0.05`, yang menunjukkan bahwa tidak ada perbedaan signifikan dalam ukuran pesanan rata-rata antara kelompok A dan B setelah menghapus pengguna yang dianggap abnormal. Nilai `-0.055` menunjukkan bahwa kelompok B memiliki ukuran pesanan rata-rata sekitar 5.5% lebih rendah daripada kelompok A setelah menghilangkan pengguna yang dianggap abnormal."
   ]
  },
  {
   "cell_type": "markdown",
   "metadata": {},
   "source": [
    "--------"
   ]
  },
  {
   "cell_type": "markdown",
   "metadata": {},
   "source": [
    "### **Keputusan Berdasarkan Hasil Pengujian**"
   ]
  },
  {
   "cell_type": "markdown",
   "metadata": {},
   "source": [
    "**Perbedaan Konversi Menggunakan Data yang Diurut dari Sub Bab (1.8.11 hingga 1.8.14):**\n",
    "\n",
    "1. **Perbedaan Konversi Menggunakan Data Mentah:**\n",
    "- Nilai p: 0.01679\n",
    "- Perbandingan rata-rata: 0.138\n",
    "- Keputusan: Terdapat perbedaan yang signifikan dalam konversi antara kelompok A dan B.\n",
    "- Perbedaan Ukuran Pesanan Rata-Rata Menggunakan Data Mentah\n",
    "\n",
    "2. **Perbedaan Ukuran Pesanan Rata-Rata Menggunakan Data Mentah:**\n",
    "- Nilai p: 0.692\n",
    "- Perbandingan rata-rata: 0.252\n",
    "- Keputusan: Tidak terdapat perbedaan yang signifikan dalam ukuran pesanan rata-rata antara kelompok A dan B.\n",
    "\n",
    "3. **Perbedaan Konversi Menggunakan Data yang Telah Difilter:**\n",
    "- Nilai p: 0.01254\n",
    "- Perbandingan rata-rata: 0.168\n",
    "- Keputusan: Terdapat perbedaan yang signifikan dalam konversi antara kelompok A dan B setelah menghapus pengguna yang dianggap abnormal.\n",
    "\n",
    "4. **Perbedaan Ukuran Pesanan Rata-Rata Menggunakan Data yang Telah Difilter:**\n",
    "- Nilai p: 0.670\n",
    "- Perbandingan rata-rata: -0.055\n",
    "- Keputusan: Tidak terdapat perbedaan yang signifikan dalam ukuran pesanan rata-rata antara kelompok A dan B setelah menghapus - pengguna yang dianggap abnormal.\n",
    "\n",
    "===============================================================================================================================\n",
    "\n",
    "<font color = red> **Keputusan yang diambil** </font>\n",
    "\n",
    "`Menghentikan pengujian, serta mempertimbangkan salah satu kelompok sebagai pemimpin`"
   ]
  },
  {
   "cell_type": "markdown",
   "metadata": {},
   "source": [
    "------"
   ]
  },
  {
   "cell_type": "markdown",
   "metadata": {},
   "source": [
    "# **Kesimpulan Umum**"
   ]
  },
  {
   "cell_type": "markdown",
   "metadata": {},
   "source": [
    "- Dataset hypothesis_df perlu diperbaiki agar mudah untuk melihat kondisi nilai hypothesis RICE yang dimiliki\n",
    "- Untuk dataset orders_df, terdapat sedikit perubahan untuk nama kolom juga untuk tipe data yang disesuaikan.\n",
    "- Untuk visitors_df, hanya terdapat kolom date yang perlu diubah dengan tipe data yang sesuai.\n",
    "\n",
    "===============================================================================================================================\n",
    "    **Berikut penerapkan Framework ICE secara menurun:**\n",
    "\n",
    "          rice_hypothesis                       ICE\n",
    "1) 8 Launch a promotion that gives users discounts ... -- 16.200000\n",
    "\n",
    "2) 0 Add two new channels for attracting traffic. T... -- 13.333333\n",
    "\n",
    "3) 7 Add a subscription form to all the main pages.... -- 11.200000\n",
    "\n",
    "4) 6 Show banners with current offers and sales on ... -- 8.000000\n",
    "\n",
    "5) 2 Add product recommendation blocks to the store... -- 7.000000\n",
    "\n",
    "6) 1 Launch your own delivery service. This will sh... -- 2.000000\n",
    "\n",
    "7) Add a customer review page. This will increase... -- 1.333333\n",
    "\n",
    "8) 3 Change the category structure. This will incre... -- 1.125000\n",
    "\n",
    "9) 4 Change the background color on the main page. ... -- 1.000000\n",
    "\n",
    "===============================================================================================================================\n",
    "     **Berikut penerapkan Framework RICE secara menurun:**\n",
    "               \n",
    "               rice_hypothesis               RICE\n",
    "1) 7 Add a subscription form to all the main pages.... -- 112.0\n",
    "\n",
    "2) 2 Add product recommendation blocks to the store... -- 56.0\n",
    "\n",
    "3) 0 Add two new channels for attracting traffic. T... -- 40.0\n",
    "\n",
    "4) 6 Show banners with current offers and sales on ... -- 40.0\n",
    "\n",
    "5) 8 Launch a promotion that gives users discounts ... -- 16.2\n",
    "\n",
    "6) 3 Change the category structure. This will incre... -- 9.0\n",
    "\n",
    "7) 1 Launch your own delivery service. This will sh... -- 4.0\n",
    "\n",
    "8) 5 Add a customer review page. This will increase... -- 4.0\n",
    "\n",
    "9) 4 Change the background color on the main page. ... -- 3.0\n",
    "\n",
    "===============================================================================================================================\n",
    "\n",
    "\n",
    "**Top 3 Prioritas (Dengan Skor Tinggi):**\n",
    "\n",
    "- Launch a promotion that gives users discounts... (16.2): Hipotesis ini memiliki dampak dan keyakinan yang tinggi, dengan usaha yang relatif rendah.\n",
    "- Add two new channels for attracting traffic... (13.33): Memiliki dampak yang cukup tinggi dengan keyakinan yang baik, dan usaha yang relatif terjangkau.\n",
    "- Add a subscription form to all the main pages... (11.2): Memiliki dampak yang tinggi dengan keyakinan yang baik, dan usaha yang cukup terjangkau.\n",
    "\n",
    "\n",
    "**Bottom 3 Prioritas (Dengan Skor Rendah):**\n",
    "\n",
    "- Change the background color on the main page... (1.0): Memiliki skor rendah, mungkin karena dampak dan keyakinan yang rendah.\n",
    "- Add a customer review page... (1.33): Memiliki skor yang sedikit lebih tinggi tetapi masih relatif rendah.\n",
    "- Change the category structure... (1.13): Dengan skor yang rendah, mungkin karena dampak dan keyakinan yang rendah.\n",
    "\n",
    "\n",
    "<font color = blue >**Interpretasi Hasil RICE**: </font>\n",
    "\n",
    "**Top 3 Prioritas (Dengan Skor Tinggi):**\n",
    "\n",
    "- Add a subscription form to all the main pages... (112.0): Hipotesis ini memiliki dampak, keyakinan, dan jangkauan yang tinggi, tetapi usaha yang relatif rendah.\n",
    "- Add product recommendation blocks to the store... (56.0): Memiliki dampak dan jangkauan yang tinggi, dengan usaha yang relatif terjangkau.\n",
    "- Add two new channels for attracting traffic... (40.0): Memiliki dampak dan jangkauan yang baik, dengan usaha yang relatif terjangkau.\n",
    "\n",
    "**Bottom 3 Prioritas (Dengan Skor Rendah):**\n",
    "\n",
    "- Change the background color on the main page... (3.0): Memiliki skor rendah, mungkin karena dampak dan jangkauan yang rendah.\n",
    "- Launch your own delivery service... (4.0): Memiliki skor yang sedikit lebih tinggi tetapi masih relatif rendah.\n",
    "- Add a customer review page... (4.0): Memiliki skor yang sama dengan hipotesis sebelumnya, mungkin karena dampak dan jangkauan yang rendah.\n",
    "\n",
    "===============================================================================================================================\n",
    "\n",
    "**Perbandingan:\n",
    "Terdapat perubahan prioritas yang cukup signifikan antara ICE dan RICE.**\n",
    "\n",
    "- Hipotesis `Add a subscription form to all the main pages. This will help you compile a mailing list` melonjak ke posisi teratas dengan RICE karena memiliki jangkauan yang tinggi.\n",
    "- Hipotesis `Launch a promotion that gives users discounts on their birthdays` tetap tinggi, tetapi peringkatnya menurun karena RICE mempertimbangkan faktor jangkauan.\n",
    "- Prioritas hipotesis lainnya dapat juga mengalami perubahan, terutama jika jangkauan memainkan peran penting dalam konteks proyek atau pada strategi bisnis. \n",
    "\n",
    "===============================================================================================================================\n",
    "\n",
    "- Untuk segment A(cumulativeRevenueA) terlihat lebih rendah dari pada segment B(cumulativeRevenueB). Terlihat bahwa segment B lebih konsisten untuk naik dari pada segment A.\n",
    "- Di beberapa titik terdapat segment yang meningkat secara drastis dan juga menurun cukup drastis. Kita belum mengetahui apakah terdapat outlier atau tidak untuk hasil yang divisualisasikan.\n",
    "- Dari segment yang kita set harian yaitu `2019-08-01` hingga `2019-08-31`, kita bisa lihat bahwa diawal hari, segment B lebih rendah dari pada segment A. Namun peningkatan yang cukup sederhana dari segment B membuat segment tersebut cukup konsisten dan lebih tinggi dari pada segment A.\n",
    "- Secara konversi untuk di awal, mengalami kenaikan sedikit tinggi. Di pertengahan, segment konversi tersebut tidak lah tinggi dan tidak lah rendah.\n",
    "- Bisa kita lihat bahwa rasio kunjungan setiap hari pada segment A memiliki awal yang cukup tinggi namun mengalami penurunan secara drastis setiap harinya. Pada segment B mengalami kenaikan dan cukup fluktatif untuk beberapa hari di awal. Kenaikan ini cukup signifikan dan semkakin ke depan segment A tidak bisa sama sekali tidak bisa menggunguli segment B.\n",
    "- Dari scatter plot yang ditampiikan, terdapat banyak nilai outliers serta beberapa distribusi yang tidak normal. Hal ini bisa saja disebabkan oleh nilai yang anomali atau kesalahan pada input data.\n",
    "\n",
    "===============================================================================================================================\n",
    "**Bagian: Hitung Persentil ke-95 dan ke-99 untuk Jumlah Pesanan Setiap Pengguna**\n",
    "1. **Persentil ke-95**: Nilai 2 mungkin menunjukkan bahwa 95% dari jumlah pesanan per pengguna berada di level 2 atau kurang. Dengan kata lain, sebagian besar pengguna memiliki jumlah pesanan yang relatif rendah.\n",
    "\n",
    "2. **Persentil ke-99**: Nilai 4 mungkin menunjukkan bahwa 99% dari jumlah pesanan per pengguna berada di level 4 atau kurang. Ini menunjukkan bahwa hanya sebagian kecil pengguna (1% teratas) yang memiliki jumlah pesanan yang lebih tinggi, dan nilai 4 dapat dianggap sebagai batas atas yang mewakili titik anomali atau nilai yang signifikan.\n",
    "\n",
    "===============================================================================================================================\n",
    "\n",
    "- Jumlah harga untuk scatter chart, terdapat hanya 1 yang berada di atas 2.500. Banyak yang membeli dengan harga di bawah 2.500. Serta terdapat sebuah outlier di angka 20.000\n",
    "\n",
    "===============================================================================================================================\n",
    "**Bagian: Hitung Persentil ke-95 dan ke-99 untuk Harga Pesanan**\n",
    "1. **Persentil ke-95**: Nilai 435.54 menunjukkan bahwa 95% dari data pendapatan pesanan per pengguna berada di bawah atau sama dengan 435.54. Dengan kata lain, sebagian besar transaksi memiliki pendapatan kurang dari 435.54.\n",
    "\n",
    "2. **Persentil ke-99**: Nilai 900.904 menunjukkan bahwa 99% dari data pendapatan pesanan per pengguna berada di bawah atau sama dengan 900.904. Ini menunjukkan bahwa sebagian besar transaksi, 99% dari total, memiliki pendapatan kurang dari 900.904.\n",
    "\n",
    "3. Bisa dipastikan dengan batas ke-99. terdapat beberapa nilai anomali.\n",
    "\n",
    "===============================================================================================================================\n",
    "\n",
    "**Untuk: Temukan Signifikansi Statistik Perbedaan Konversi antar Kelompok Menggunakan Data Mentah**\n",
    "- Nilai p kurang dari tingkat signifikansi umum 0.05, yang menunjukkan bahwa terdapat perbedaan signifikan antara sampleA dan sampleB. Dalam konteks pengujian Mann-Whitney, ini dapat diartikan sebagai adanya perbedaan yang signifikan dalam distribusi antara dua kelompok.\n",
    "\n",
    "**Untuk: Temukan Signifikansi Statistik Perbedaan Ukuran Pesanan Rata-Rata antar Kelompok Menggunakan Data Mentah**\n",
    "- Nilai P lebih besar dari 0.05 pada umumnya. Ini menunjukan bahwa tidak ada perbedaan secara signifikan secara statistik untuk ukuran pesanan rata-rata antar kelompok dengan menggunakan data mentah.\n",
    "\n",
    "**Untuk: Temukan Signifikansi Statistik Perbedaan Konversi antar Kelompok Menggunakan Data yang Telah Difilter**\n",
    "- Nilai p kurang dari tingkat signifikansi umum 0.05, yang menunjukkan bahwa terdapat perbedaan yang signifikan dalam distribusi antara kelompok A dan B setelah menghapus pengguna yang dianggap abnormal.\n",
    "\n",
    "**Untuk: Temukan Signifikansi Statistik Serbedaan Ukuran Pesanan Rata-Rata antar Kelompok Menggunakan Data yang Telah Difilter**\n",
    "- Nilai p `0.67` lebih besar dari tingkat signifikansi umum `0.05`, yang menunjukkan bahwa tidak ada perbedaan signifikan dalam ukuran pesanan rata-rata antara kelompok A dan B setelah menghapus pengguna yang dianggap abnormal. Nilai `-0.055` menunjukkan bahwa kelompok B memiliki ukuran pesanan rata-rata sekitar 5.5% lebih rendah daripada kelompok A setelah menghilangkan pengguna yang dianggap abnormal.\n",
    "\n",
    "===============================================================================================================================\n",
    "**Insight Analysis**\n",
    "\n",
    "Berdasarkan hasil analisis yang telah dilakukan, beberapa insight yang dapat diambil dari eksperimen ini dapat mencakup:\n",
    "\n",
    "\n",
    "**1. Perbedaan Konversi:**\n",
    "- Terdapat perbedaan signifikan dalam tingkat konversi antara kelompok A dan B setelah menghapus pengguna yang dianggap abnormal. Hal ini dapat menjadi insight penting, terutama jika konversi dianggap sebagai metrik kunci atau tujuan utama dari eksperimen ini.\n",
    "\n",
    "**2. Ukuran Pesanan Rata-Rata:**\n",
    "- Tidak terdapat perbedaan yang signifikan dalam ukuran pesanan rata-rata antara kelompok A dan B setelah menghapus pengguna yang dianggap abnormal. Meskipun terdapat perbedaan arah, nilai p yang tinggi menunjukkan bahwa perbedaan ini mungkin terjadi secara kebetulan.\n",
    "\n",
    "**3. Pengaruh Pengguna Abnormal:**\n",
    "- Pembersihan data dari pengguna abnormal dapat memengaruhi hasil eksperimen. Ini menggarisbawahi pentingnya identifikasi dan penanganan outlier atau anomali dalam analisis data.\n",
    "\n",
    "**4. Pertimbangan Bisnis:**\n",
    "- Keputusan akhir harus didasarkan pada pertimbangan bisnis secara menyeluruh. Jika konversi dianggap sebagai faktor kunci dalam keputusan bisnis, hasil yang menunjukkan perbedaan yang signifikan dapat menjadi dasar untuk mengambil keputusan.\n",
    "\n",
    "**5. Pertimbangan Lebih Lanjut:**\n",
    "- Analisis ini dapat menjadi titik awal untuk pertimbangan lebih lanjut. Misalnya, eksplorasi lebih lanjut terhadap segmentasi pengguna atau analisis cohort dapat memberikan wawasan tambahan.\n",
    "\n",
    "**6. Sumber Daya dan Efisiensi:**\n",
    "- Pertimbangkan efisiensi sumber daya. Jika perbedaan yang signifikan telah ditemukan dan menghentikan pengujian memberikan nilai tambah yang signifikan, hal ini dapat dianggap sebagai keputusan yang efisien.\n",
    "\n",
    "**Kesimpulan:**\n",
    "\n",
    "- Eksperimen ini memberikan wawasan terkait konversi, dan keputusan selanjutnya harus disesuaikan dengan konteks bisnis dan tujuan eksperimen.\n",
    "- Selalu disarankan untuk berkolaborasi dengan tim dan pemangku kepentingan terkait dalam membuat keputusan bisnis berdasarkan hasil analisis.\n",
    "- Sumber daya, tujuan eksperimen, dan konteks bisnis harus menjadi pemandu utama dalam merumuskan kesimpulan dan mengambil tindakan selanjutnya."
   ]
  },
  {
   "cell_type": "code",
   "execution_count": null,
   "metadata": {},
   "outputs": [],
   "source": []
  }
 ],
 "metadata": {
  "kernelspec": {
   "display_name": "Python 3 (ipykernel)",
   "language": "python",
   "name": "python3"
  },
  "language_info": {
   "codemirror_mode": {
    "name": "ipython",
    "version": 3
   },
   "file_extension": ".py",
   "mimetype": "text/x-python",
   "name": "python",
   "nbconvert_exporter": "python",
   "pygments_lexer": "ipython3",
   "version": "3.10.9"
  },
  "toc": {
   "base_numbering": 1,
   "nav_menu": {},
   "number_sections": true,
   "sideBar": true,
   "skip_h1_title": false,
   "title_cell": "Table of Contents",
   "title_sidebar": "Contents",
   "toc_cell": false,
   "toc_position": {
    "height": "calc(100% - 180px)",
    "left": "10px",
    "top": "150px",
    "width": "457px"
   },
   "toc_section_display": true,
   "toc_window_display": false
  }
 },
 "nbformat": 4,
 "nbformat_minor": 2
}
